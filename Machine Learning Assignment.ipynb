{
 "cells": [
  {
   "cell_type": "code",
   "execution_count": 1,
   "id": "3195af5a",
   "metadata": {},
   "outputs": [],
   "source": [
    "# display\n",
    "import matplotlib.pyplot as plt\n",
    "%matplotlib inline\n",
    "\n",
    "# base modules\n",
    "import os\n",
    "import sys\n",
    "import copy\n",
    "import logging\n",
    "import numpy as np\n",
    "import pandas as pd\n",
    "import math\n",
    "\n",
    "# for Machine Learning\n",
    "from sklearn.ensemble import RandomForestRegressor\n",
    "from xgboost import XGBRegressor\n",
    "from catboost import CatBoostRegressor"
   ]
  },
  {
   "cell_type": "code",
   "execution_count": 2,
   "id": "08a99070",
   "metadata": {},
   "outputs": [
    {
     "name": "stdout",
     "output_type": "stream",
     "text": [
      "/Users/grantyong/Downloads/ML Assignment\n"
     ]
    }
   ],
   "source": [
    "# path to repo\n",
    "path_to_repo = os.path.dirname(os.getcwd())\n",
    "print(path_to_repo)\n",
    "\n",
    "sys.path.insert(0, os.path.join(path_to_repo, 'src'))\n",
    "\n",
    "# custom module\n",
    "from emlyon.utils import *"
   ]
  },
  {
   "cell_type": "code",
   "execution_count": 3,
   "id": "4db6701a",
   "metadata": {},
   "outputs": [
    {
     "data": {
      "text/plain": [
       "'/Users/grantyong/Downloads/ML Assignment/data/train.csv'"
      ]
     },
     "execution_count": 3,
     "metadata": {},
     "output_type": "execute_result"
    }
   ],
   "source": [
    "# path to dataset\n",
    "path_to_dataset = os.path.join(path_to_repo, \"data\", \"train.csv\")\n",
    "path_to_dataset"
   ]
  },
  {
   "cell_type": "code",
   "execution_count": 43,
   "id": "3c71a6b2",
   "metadata": {},
   "outputs": [
    {
     "data": {
      "text/html": [
       "<div>\n",
       "<style scoped>\n",
       "    .dataframe tbody tr th:only-of-type {\n",
       "        vertical-align: middle;\n",
       "    }\n",
       "\n",
       "    .dataframe tbody tr th {\n",
       "        vertical-align: top;\n",
       "    }\n",
       "\n",
       "    .dataframe thead th {\n",
       "        text-align: right;\n",
       "    }\n",
       "</style>\n",
       "<table border=\"1\" class=\"dataframe\">\n",
       "  <thead>\n",
       "    <tr style=\"text-align: right;\">\n",
       "      <th></th>\n",
       "      <th>id</th>\n",
       "      <th>log_price</th>\n",
       "      <th>property_type</th>\n",
       "      <th>room_type</th>\n",
       "      <th>amenities</th>\n",
       "      <th>accommodates</th>\n",
       "      <th>bathrooms</th>\n",
       "      <th>bed_type</th>\n",
       "      <th>cancellation_policy</th>\n",
       "      <th>cleaning_fee</th>\n",
       "      <th>...</th>\n",
       "      <th>latitude</th>\n",
       "      <th>longitude</th>\n",
       "      <th>name</th>\n",
       "      <th>neighbourhood</th>\n",
       "      <th>number_of_reviews</th>\n",
       "      <th>review_scores_rating</th>\n",
       "      <th>thumbnail_url</th>\n",
       "      <th>zipcode</th>\n",
       "      <th>bedrooms</th>\n",
       "      <th>beds</th>\n",
       "    </tr>\n",
       "  </thead>\n",
       "  <tbody>\n",
       "    <tr>\n",
       "      <th>0</th>\n",
       "      <td>6901257</td>\n",
       "      <td>5.010635</td>\n",
       "      <td>Apartment</td>\n",
       "      <td>Entire home/apt</td>\n",
       "      <td>{\"Wireless Internet\",\"Air conditioning\",Kitche...</td>\n",
       "      <td>3</td>\n",
       "      <td>1.0</td>\n",
       "      <td>Real Bed</td>\n",
       "      <td>strict</td>\n",
       "      <td>True</td>\n",
       "      <td>...</td>\n",
       "      <td>40.696524</td>\n",
       "      <td>-73.991617</td>\n",
       "      <td>Beautiful brownstone 1-bedroom</td>\n",
       "      <td>Brooklyn Heights</td>\n",
       "      <td>2</td>\n",
       "      <td>100.0</td>\n",
       "      <td>https://a0.muscache.com/im/pictures/6d7cbbf7-c...</td>\n",
       "      <td>11201</td>\n",
       "      <td>1.0</td>\n",
       "      <td>1.0</td>\n",
       "    </tr>\n",
       "    <tr>\n",
       "      <th>1</th>\n",
       "      <td>6304928</td>\n",
       "      <td>5.129899</td>\n",
       "      <td>Apartment</td>\n",
       "      <td>Entire home/apt</td>\n",
       "      <td>{\"Wireless Internet\",\"Air conditioning\",Kitche...</td>\n",
       "      <td>7</td>\n",
       "      <td>1.0</td>\n",
       "      <td>Real Bed</td>\n",
       "      <td>strict</td>\n",
       "      <td>True</td>\n",
       "      <td>...</td>\n",
       "      <td>40.766115</td>\n",
       "      <td>-73.989040</td>\n",
       "      <td>Superb 3BR Apt Located Near Times Square</td>\n",
       "      <td>Hell's Kitchen</td>\n",
       "      <td>6</td>\n",
       "      <td>93.0</td>\n",
       "      <td>https://a0.muscache.com/im/pictures/348a55fe-4...</td>\n",
       "      <td>10019</td>\n",
       "      <td>3.0</td>\n",
       "      <td>3.0</td>\n",
       "    </tr>\n",
       "    <tr>\n",
       "      <th>2</th>\n",
       "      <td>7919400</td>\n",
       "      <td>4.976734</td>\n",
       "      <td>Apartment</td>\n",
       "      <td>Entire home/apt</td>\n",
       "      <td>{TV,\"Cable TV\",\"Wireless Internet\",\"Air condit...</td>\n",
       "      <td>5</td>\n",
       "      <td>1.0</td>\n",
       "      <td>Real Bed</td>\n",
       "      <td>moderate</td>\n",
       "      <td>True</td>\n",
       "      <td>...</td>\n",
       "      <td>40.808110</td>\n",
       "      <td>-73.943756</td>\n",
       "      <td>The Garden Oasis</td>\n",
       "      <td>Harlem</td>\n",
       "      <td>10</td>\n",
       "      <td>92.0</td>\n",
       "      <td>https://a0.muscache.com/im/pictures/6fae5362-9...</td>\n",
       "      <td>10027</td>\n",
       "      <td>1.0</td>\n",
       "      <td>3.0</td>\n",
       "    </tr>\n",
       "    <tr>\n",
       "      <th>3</th>\n",
       "      <td>13418779</td>\n",
       "      <td>6.620073</td>\n",
       "      <td>House</td>\n",
       "      <td>Entire home/apt</td>\n",
       "      <td>{TV,\"Cable TV\",Internet,\"Wireless Internet\",Ki...</td>\n",
       "      <td>4</td>\n",
       "      <td>1.0</td>\n",
       "      <td>Real Bed</td>\n",
       "      <td>flexible</td>\n",
       "      <td>True</td>\n",
       "      <td>...</td>\n",
       "      <td>37.772004</td>\n",
       "      <td>-122.431619</td>\n",
       "      <td>Beautiful Flat in the Heart of SF!</td>\n",
       "      <td>Lower Haight</td>\n",
       "      <td>0</td>\n",
       "      <td>NaN</td>\n",
       "      <td>https://a0.muscache.com/im/pictures/72208dad-9...</td>\n",
       "      <td>94117.0</td>\n",
       "      <td>2.0</td>\n",
       "      <td>2.0</td>\n",
       "    </tr>\n",
       "    <tr>\n",
       "      <th>4</th>\n",
       "      <td>3808709</td>\n",
       "      <td>4.744932</td>\n",
       "      <td>Apartment</td>\n",
       "      <td>Entire home/apt</td>\n",
       "      <td>{TV,Internet,\"Wireless Internet\",\"Air conditio...</td>\n",
       "      <td>2</td>\n",
       "      <td>1.0</td>\n",
       "      <td>Real Bed</td>\n",
       "      <td>moderate</td>\n",
       "      <td>True</td>\n",
       "      <td>...</td>\n",
       "      <td>38.925627</td>\n",
       "      <td>-77.034596</td>\n",
       "      <td>Great studio in midtown DC</td>\n",
       "      <td>Columbia Heights</td>\n",
       "      <td>4</td>\n",
       "      <td>40.0</td>\n",
       "      <td>NaN</td>\n",
       "      <td>20009</td>\n",
       "      <td>0.0</td>\n",
       "      <td>1.0</td>\n",
       "    </tr>\n",
       "    <tr>\n",
       "      <th>...</th>\n",
       "      <td>...</td>\n",
       "      <td>...</td>\n",
       "      <td>...</td>\n",
       "      <td>...</td>\n",
       "      <td>...</td>\n",
       "      <td>...</td>\n",
       "      <td>...</td>\n",
       "      <td>...</td>\n",
       "      <td>...</td>\n",
       "      <td>...</td>\n",
       "      <td>...</td>\n",
       "      <td>...</td>\n",
       "      <td>...</td>\n",
       "      <td>...</td>\n",
       "      <td>...</td>\n",
       "      <td>...</td>\n",
       "      <td>...</td>\n",
       "      <td>...</td>\n",
       "      <td>...</td>\n",
       "      <td>...</td>\n",
       "      <td>...</td>\n",
       "    </tr>\n",
       "    <tr>\n",
       "      <th>74106</th>\n",
       "      <td>14549287</td>\n",
       "      <td>4.605170</td>\n",
       "      <td>Apartment</td>\n",
       "      <td>Private room</td>\n",
       "      <td>{}</td>\n",
       "      <td>1</td>\n",
       "      <td>1.0</td>\n",
       "      <td>Real Bed</td>\n",
       "      <td>flexible</td>\n",
       "      <td>False</td>\n",
       "      <td>...</td>\n",
       "      <td>40.709025</td>\n",
       "      <td>-73.939405</td>\n",
       "      <td>one room bushwick</td>\n",
       "      <td>Williamsburg</td>\n",
       "      <td>0</td>\n",
       "      <td>NaN</td>\n",
       "      <td>https://a0.muscache.com/im/pictures/55162426/6...</td>\n",
       "      <td>11206.0</td>\n",
       "      <td>1.0</td>\n",
       "      <td>1.0</td>\n",
       "    </tr>\n",
       "    <tr>\n",
       "      <th>74107</th>\n",
       "      <td>13281809</td>\n",
       "      <td>5.043425</td>\n",
       "      <td>Apartment</td>\n",
       "      <td>Entire home/apt</td>\n",
       "      <td>{TV,\"Cable TV\",Internet,\"Wireless Internet\",Ki...</td>\n",
       "      <td>4</td>\n",
       "      <td>2.0</td>\n",
       "      <td>Real Bed</td>\n",
       "      <td>moderate</td>\n",
       "      <td>True</td>\n",
       "      <td>...</td>\n",
       "      <td>33.871549</td>\n",
       "      <td>-118.396053</td>\n",
       "      <td>Spacious Hermosa 2 BR on PCH</td>\n",
       "      <td>Hermosa Beach</td>\n",
       "      <td>16</td>\n",
       "      <td>93.0</td>\n",
       "      <td>https://a0.muscache.com/im/pictures/2b86560b-a...</td>\n",
       "      <td>90254</td>\n",
       "      <td>2.0</td>\n",
       "      <td>4.0</td>\n",
       "    </tr>\n",
       "    <tr>\n",
       "      <th>74108</th>\n",
       "      <td>18688039</td>\n",
       "      <td>5.220356</td>\n",
       "      <td>Apartment</td>\n",
       "      <td>Entire home/apt</td>\n",
       "      <td>{TV,Internet,\"Wireless Internet\",\"Air conditio...</td>\n",
       "      <td>5</td>\n",
       "      <td>1.0</td>\n",
       "      <td>Real Bed</td>\n",
       "      <td>moderate</td>\n",
       "      <td>True</td>\n",
       "      <td>...</td>\n",
       "      <td>40.706749</td>\n",
       "      <td>-73.942377</td>\n",
       "      <td>Modern 2 Bedroom Apartment in Williamsburg</td>\n",
       "      <td>Williamsburg</td>\n",
       "      <td>43</td>\n",
       "      <td>94.0</td>\n",
       "      <td>https://a0.muscache.com/im/pictures/7fbe448c-5...</td>\n",
       "      <td>11206.0</td>\n",
       "      <td>2.0</td>\n",
       "      <td>2.0</td>\n",
       "    </tr>\n",
       "    <tr>\n",
       "      <th>74109</th>\n",
       "      <td>17045948</td>\n",
       "      <td>5.273000</td>\n",
       "      <td>Apartment</td>\n",
       "      <td>Entire home/apt</td>\n",
       "      <td>{TV,\"Wireless Internet\",\"Air conditioning\",Kit...</td>\n",
       "      <td>2</td>\n",
       "      <td>1.0</td>\n",
       "      <td>Real Bed</td>\n",
       "      <td>strict</td>\n",
       "      <td>True</td>\n",
       "      <td>...</td>\n",
       "      <td>40.738535</td>\n",
       "      <td>-74.000157</td>\n",
       "      <td>Designer's Apartment in HEART of NYC</td>\n",
       "      <td>West Village</td>\n",
       "      <td>0</td>\n",
       "      <td>NaN</td>\n",
       "      <td>https://a0.muscache.com/im/pictures/b3971b63-0...</td>\n",
       "      <td>10011</td>\n",
       "      <td>0.0</td>\n",
       "      <td>2.0</td>\n",
       "    </tr>\n",
       "    <tr>\n",
       "      <th>74110</th>\n",
       "      <td>3534845</td>\n",
       "      <td>4.852030</td>\n",
       "      <td>Boat</td>\n",
       "      <td>Entire home/apt</td>\n",
       "      <td>{TV,Internet,\"Wireless Internet\",Kitchen,\"Free...</td>\n",
       "      <td>4</td>\n",
       "      <td>1.0</td>\n",
       "      <td>Real Bed</td>\n",
       "      <td>moderate</td>\n",
       "      <td>False</td>\n",
       "      <td>...</td>\n",
       "      <td>33.761096</td>\n",
       "      <td>-118.192409</td>\n",
       "      <td>Cozy Boat at Shoreline Village</td>\n",
       "      <td>Long Beach</td>\n",
       "      <td>205</td>\n",
       "      <td>96.0</td>\n",
       "      <td>https://a0.muscache.com/im/pictures/22968537/d...</td>\n",
       "      <td>90802</td>\n",
       "      <td>1.0</td>\n",
       "      <td>2.0</td>\n",
       "    </tr>\n",
       "  </tbody>\n",
       "</table>\n",
       "<p>74111 rows × 29 columns</p>\n",
       "</div>"
      ],
      "text/plain": [
       "             id  log_price property_type        room_type  \\\n",
       "0       6901257   5.010635     Apartment  Entire home/apt   \n",
       "1       6304928   5.129899     Apartment  Entire home/apt   \n",
       "2       7919400   4.976734     Apartment  Entire home/apt   \n",
       "3      13418779   6.620073         House  Entire home/apt   \n",
       "4       3808709   4.744932     Apartment  Entire home/apt   \n",
       "...         ...        ...           ...              ...   \n",
       "74106  14549287   4.605170     Apartment     Private room   \n",
       "74107  13281809   5.043425     Apartment  Entire home/apt   \n",
       "74108  18688039   5.220356     Apartment  Entire home/apt   \n",
       "74109  17045948   5.273000     Apartment  Entire home/apt   \n",
       "74110   3534845   4.852030          Boat  Entire home/apt   \n",
       "\n",
       "                                               amenities  accommodates  \\\n",
       "0      {\"Wireless Internet\",\"Air conditioning\",Kitche...             3   \n",
       "1      {\"Wireless Internet\",\"Air conditioning\",Kitche...             7   \n",
       "2      {TV,\"Cable TV\",\"Wireless Internet\",\"Air condit...             5   \n",
       "3      {TV,\"Cable TV\",Internet,\"Wireless Internet\",Ki...             4   \n",
       "4      {TV,Internet,\"Wireless Internet\",\"Air conditio...             2   \n",
       "...                                                  ...           ...   \n",
       "74106                                                 {}             1   \n",
       "74107  {TV,\"Cable TV\",Internet,\"Wireless Internet\",Ki...             4   \n",
       "74108  {TV,Internet,\"Wireless Internet\",\"Air conditio...             5   \n",
       "74109  {TV,\"Wireless Internet\",\"Air conditioning\",Kit...             2   \n",
       "74110  {TV,Internet,\"Wireless Internet\",Kitchen,\"Free...             4   \n",
       "\n",
       "       bathrooms  bed_type cancellation_policy  cleaning_fee  ...   latitude  \\\n",
       "0            1.0  Real Bed              strict          True  ...  40.696524   \n",
       "1            1.0  Real Bed              strict          True  ...  40.766115   \n",
       "2            1.0  Real Bed            moderate          True  ...  40.808110   \n",
       "3            1.0  Real Bed            flexible          True  ...  37.772004   \n",
       "4            1.0  Real Bed            moderate          True  ...  38.925627   \n",
       "...          ...       ...                 ...           ...  ...        ...   \n",
       "74106        1.0  Real Bed            flexible         False  ...  40.709025   \n",
       "74107        2.0  Real Bed            moderate          True  ...  33.871549   \n",
       "74108        1.0  Real Bed            moderate          True  ...  40.706749   \n",
       "74109        1.0  Real Bed              strict          True  ...  40.738535   \n",
       "74110        1.0  Real Bed            moderate         False  ...  33.761096   \n",
       "\n",
       "        longitude                                        name  \\\n",
       "0      -73.991617              Beautiful brownstone 1-bedroom   \n",
       "1      -73.989040    Superb 3BR Apt Located Near Times Square   \n",
       "2      -73.943756                            The Garden Oasis   \n",
       "3     -122.431619          Beautiful Flat in the Heart of SF!   \n",
       "4      -77.034596                  Great studio in midtown DC   \n",
       "...           ...                                         ...   \n",
       "74106  -73.939405                           one room bushwick   \n",
       "74107 -118.396053                Spacious Hermosa 2 BR on PCH   \n",
       "74108  -73.942377  Modern 2 Bedroom Apartment in Williamsburg   \n",
       "74109  -74.000157        Designer's Apartment in HEART of NYC   \n",
       "74110 -118.192409              Cozy Boat at Shoreline Village   \n",
       "\n",
       "          neighbourhood number_of_reviews review_scores_rating  \\\n",
       "0      Brooklyn Heights                 2                100.0   \n",
       "1        Hell's Kitchen                 6                 93.0   \n",
       "2                Harlem                10                 92.0   \n",
       "3          Lower Haight                 0                  NaN   \n",
       "4      Columbia Heights                 4                 40.0   \n",
       "...                 ...               ...                  ...   \n",
       "74106      Williamsburg                 0                  NaN   \n",
       "74107     Hermosa Beach                16                 93.0   \n",
       "74108      Williamsburg                43                 94.0   \n",
       "74109      West Village                 0                  NaN   \n",
       "74110        Long Beach               205                 96.0   \n",
       "\n",
       "                                           thumbnail_url  zipcode bedrooms  \\\n",
       "0      https://a0.muscache.com/im/pictures/6d7cbbf7-c...    11201      1.0   \n",
       "1      https://a0.muscache.com/im/pictures/348a55fe-4...    10019      3.0   \n",
       "2      https://a0.muscache.com/im/pictures/6fae5362-9...    10027      1.0   \n",
       "3      https://a0.muscache.com/im/pictures/72208dad-9...  94117.0      2.0   \n",
       "4                                                    NaN    20009      0.0   \n",
       "...                                                  ...      ...      ...   \n",
       "74106  https://a0.muscache.com/im/pictures/55162426/6...  11206.0      1.0   \n",
       "74107  https://a0.muscache.com/im/pictures/2b86560b-a...    90254      2.0   \n",
       "74108  https://a0.muscache.com/im/pictures/7fbe448c-5...  11206.0      2.0   \n",
       "74109  https://a0.muscache.com/im/pictures/b3971b63-0...    10011      0.0   \n",
       "74110  https://a0.muscache.com/im/pictures/22968537/d...    90802      1.0   \n",
       "\n",
       "       beds  \n",
       "0       1.0  \n",
       "1       3.0  \n",
       "2       3.0  \n",
       "3       2.0  \n",
       "4       1.0  \n",
       "...     ...  \n",
       "74106   1.0  \n",
       "74107   4.0  \n",
       "74108   2.0  \n",
       "74109   2.0  \n",
       "74110   2.0  \n",
       "\n",
       "[74111 rows x 29 columns]"
      ]
     },
     "execution_count": 43,
     "metadata": {},
     "output_type": "execute_result"
    }
   ],
   "source": [
    "# read data\n",
    "df = pd.read_csv(path_to_dataset)\n",
    "df"
   ]
  },
  {
   "cell_type": "code",
   "execution_count": 44,
   "id": "613ef195",
   "metadata": {},
   "outputs": [],
   "source": [
    "# drop id column\n",
    "df.drop(\"id\", axis=1, inplace=True)"
   ]
  },
  {
   "cell_type": "code",
   "execution_count": 45,
   "id": "2b0e3499",
   "metadata": {},
   "outputs": [
    {
     "data": {
      "text/plain": [
       "Index(['log_price', 'property_type', 'room_type', 'amenities', 'accommodates',\n",
       "       'bathrooms', 'bed_type', 'cancellation_policy', 'cleaning_fee', 'city',\n",
       "       'description', 'first_review', 'host_has_profile_pic',\n",
       "       'host_identity_verified', 'host_response_rate', 'host_since',\n",
       "       'instant_bookable', 'last_review', 'latitude', 'longitude', 'name',\n",
       "       'neighbourhood', 'number_of_reviews', 'review_scores_rating',\n",
       "       'thumbnail_url', 'zipcode', 'bedrooms', 'beds'],\n",
       "      dtype='object')"
      ]
     },
     "execution_count": 45,
     "metadata": {},
     "output_type": "execute_result"
    }
   ],
   "source": [
    "# view all column names\n",
    "df.columns"
   ]
  },
  {
   "cell_type": "code",
   "execution_count": 46,
   "id": "29eec281",
   "metadata": {},
   "outputs": [
    {
     "data": {
      "text/plain": [
       "28"
      ]
     },
     "execution_count": 46,
     "metadata": {},
     "output_type": "execute_result"
    }
   ],
   "source": [
    "# check number of columns\n",
    "len(df.columns)"
   ]
  },
  {
   "cell_type": "code",
   "execution_count": 47,
   "id": "c23057b7",
   "metadata": {},
   "outputs": [
    {
     "data": {
      "text/plain": [
       "(74111, 28)"
      ]
     },
     "execution_count": 47,
     "metadata": {},
     "output_type": "execute_result"
    }
   ],
   "source": [
    "# number of rows and columns \n",
    "df.shape"
   ]
  },
  {
   "cell_type": "code",
   "execution_count": 48,
   "id": "fc6f0cca",
   "metadata": {},
   "outputs": [
    {
     "data": {
      "text/plain": [
       "log_price                 float64\n",
       "property_type              object\n",
       "room_type                  object\n",
       "amenities                  object\n",
       "accommodates                int64\n",
       "bathrooms                 float64\n",
       "bed_type                   object\n",
       "cancellation_policy        object\n",
       "cleaning_fee                 bool\n",
       "city                       object\n",
       "description                object\n",
       "first_review               object\n",
       "host_has_profile_pic       object\n",
       "host_identity_verified     object\n",
       "host_response_rate         object\n",
       "host_since                 object\n",
       "instant_bookable           object\n",
       "last_review                object\n",
       "latitude                  float64\n",
       "longitude                 float64\n",
       "name                       object\n",
       "neighbourhood              object\n",
       "number_of_reviews           int64\n",
       "review_scores_rating      float64\n",
       "thumbnail_url              object\n",
       "zipcode                    object\n",
       "bedrooms                  float64\n",
       "beds                      float64\n",
       "dtype: object"
      ]
     },
     "execution_count": 48,
     "metadata": {},
     "output_type": "execute_result"
    }
   ],
   "source": [
    "# view datatype of columns\n",
    "df.dtypes"
   ]
  },
  {
   "cell_type": "code",
   "execution_count": 49,
   "id": "4b9efef9",
   "metadata": {},
   "outputs": [
    {
     "data": {
      "text/plain": [
       "(74110, 28)"
      ]
     },
     "execution_count": 49,
     "metadata": {},
     "output_type": "execute_result"
    }
   ],
   "source": [
    "# remove rows with 0 or negative price\n",
    "df = df[df.log_price > 0]\n",
    "df.shape"
   ]
  },
  {
   "cell_type": "markdown",
   "id": "6d641c13",
   "metadata": {},
   "source": [
    " only 1 row with 0 or negative price"
   ]
  },
  {
   "cell_type": "code",
   "execution_count": 50,
   "id": "d6dc17bb",
   "metadata": {},
   "outputs": [
    {
     "data": {
      "text/plain": [
       "log_price                     0\n",
       "property_type                 0\n",
       "room_type                     0\n",
       "amenities                     0\n",
       "accommodates                  0\n",
       "bathrooms                   200\n",
       "bed_type                      0\n",
       "cancellation_policy           0\n",
       "cleaning_fee                  0\n",
       "city                          0\n",
       "description                   0\n",
       "first_review              15864\n",
       "host_has_profile_pic        188\n",
       "host_identity_verified      188\n",
       "host_response_rate        18299\n",
       "host_since                  188\n",
       "instant_bookable              0\n",
       "last_review               15827\n",
       "latitude                      0\n",
       "longitude                     0\n",
       "name                          0\n",
       "neighbourhood              6872\n",
       "number_of_reviews             0\n",
       "review_scores_rating      16722\n",
       "thumbnail_url              8216\n",
       "zipcode                     966\n",
       "bedrooms                     91\n",
       "beds                        131\n",
       "dtype: int64"
      ]
     },
     "execution_count": 50,
     "metadata": {},
     "output_type": "execute_result"
    }
   ],
   "source": [
    "# view columns with null values\n",
    "df.isna().sum()"
   ]
  },
  {
   "cell_type": "code",
   "execution_count": 51,
   "id": "a926f7e5",
   "metadata": {},
   "outputs": [
    {
     "data": {
      "text/plain": [
       "(94.06748797658047, 96.0)"
      ]
     },
     "execution_count": 51,
     "metadata": {},
     "output_type": "execute_result"
    }
   ],
   "source": [
    "df[\"review_scores_rating\"].mean(),df[\"review_scores_rating\"].median()"
   ]
  },
  {
   "cell_type": "code",
   "execution_count": 52,
   "id": "91950831",
   "metadata": {},
   "outputs": [
    {
     "name": "stderr",
     "output_type": "stream",
     "text": [
      "/var/folders/9p/3vb029cj5298_nlwpszm2qp40000gn/T/ipykernel_11170/1673347312.py:2: SettingWithCopyWarning: \n",
      "A value is trying to be set on a copy of a slice from a DataFrame.\n",
      "Try using .loc[row_indexer,col_indexer] = value instead\n",
      "\n",
      "See the caveats in the documentation: https://pandas.pydata.org/pandas-docs/stable/user_guide/indexing.html#returning-a-view-versus-a-copy\n",
      "  df[\"bathrooms\"] = df[\"bathrooms\"].fillna(int(df[\"bathrooms\"].mean()))\n",
      "/var/folders/9p/3vb029cj5298_nlwpszm2qp40000gn/T/ipykernel_11170/1673347312.py:3: SettingWithCopyWarning: \n",
      "A value is trying to be set on a copy of a slice from a DataFrame.\n",
      "Try using .loc[row_indexer,col_indexer] = value instead\n",
      "\n",
      "See the caveats in the documentation: https://pandas.pydata.org/pandas-docs/stable/user_guide/indexing.html#returning-a-view-versus-a-copy\n",
      "  df[\"bedrooms\"] = df[\"bedrooms\"].fillna(int(df[\"bedrooms\"].mean()))\n",
      "/var/folders/9p/3vb029cj5298_nlwpszm2qp40000gn/T/ipykernel_11170/1673347312.py:4: SettingWithCopyWarning: \n",
      "A value is trying to be set on a copy of a slice from a DataFrame.\n",
      "Try using .loc[row_indexer,col_indexer] = value instead\n",
      "\n",
      "See the caveats in the documentation: https://pandas.pydata.org/pandas-docs/stable/user_guide/indexing.html#returning-a-view-versus-a-copy\n",
      "  df[\"beds\"] = df[\"beds\"].fillna(int(df[\"beds\"].mean()))\n",
      "/var/folders/9p/3vb029cj5298_nlwpszm2qp40000gn/T/ipykernel_11170/1673347312.py:5: SettingWithCopyWarning: \n",
      "A value is trying to be set on a copy of a slice from a DataFrame.\n",
      "Try using .loc[row_indexer,col_indexer] = value instead\n",
      "\n",
      "See the caveats in the documentation: https://pandas.pydata.org/pandas-docs/stable/user_guide/indexing.html#returning-a-view-versus-a-copy\n",
      "  df[\"review_scores_rating\"] = df[\"review_scores_rating\"].fillna(df[\"review_scores_rating\"].mean())\n"
     ]
    }
   ],
   "source": [
    "# fill na with mean values for the following columns\n",
    "df[\"bathrooms\"] = df[\"bathrooms\"].fillna(int(df[\"bathrooms\"].mean()))\n",
    "df[\"bedrooms\"] = df[\"bedrooms\"].fillna(int(df[\"bedrooms\"].mean()))\n",
    "df[\"beds\"] = df[\"beds\"].fillna(int(df[\"beds\"].mean()))\n",
    "df[\"review_scores_rating\"] = df[\"review_scores_rating\"].fillna(df[\"review_scores_rating\"].mean())"
   ]
  },
  {
   "cell_type": "code",
   "execution_count": 53,
   "id": "1a95470c",
   "metadata": {},
   "outputs": [],
   "source": [
    "# drop columns\n",
    "df = df.drop([\"description\",\"first_review\",\"last_review\",\"host_since\",\"host_has_profile_pic\",\n",
    "              \"name\",\"thumbnail_url\",\"zipcode\",\"neighbourhood\",\"latitude\",\"longitude\"],axis=1)"
   ]
  },
  {
   "cell_type": "code",
   "execution_count": 54,
   "id": "772e3485",
   "metadata": {},
   "outputs": [],
   "source": [
    "# Changing all boolean objects to 0/1\n",
    "df[\"host_identity_verified\"] = df.host_identity_verified.apply(lambda x: True if x=='t' else False)\n",
    "df[\"instant_bookable\"] = df.instant_bookable.apply(lambda x: True if x=='t' else False)"
   ]
  },
  {
   "cell_type": "code",
   "execution_count": 55,
   "id": "82206be1",
   "metadata": {},
   "outputs": [],
   "source": [
    "# change % to decimal, fill na with median value\n",
    "df[\"host_response_rate\"] = df[\"host_response_rate\"].map(lambda x: int(x.rstrip(\"%\")) if isinstance(x,str) else x)\n",
    "df[\"host_response_rate\"] = df[\"host_response_rate\"].map(lambda x: x/100 if isinstance(x,float) else x)\n",
    "df[\"host_response_rate\"] = df[\"host_response_rate\"].fillna(df[\"host_response_rate\"].median())"
   ]
  },
  {
   "cell_type": "code",
   "execution_count": 58,
   "id": "cbaa5cd2",
   "metadata": {},
   "outputs": [
    {
     "data": {
      "text/plain": [
       "array([1.  , 0.71, 0.68, 0.67, 0.83, 0.5 , 0.9 , 0.86, 0.92, 0.82, 0.8 ,\n",
       "       0.89, 0.93, 0.99, 0.  , 0.88, 0.96, 0.7 , 0.94, 0.91, 0.25, 0.95,\n",
       "       0.98, 0.62, 0.29, 0.33, 0.81, 0.63, 0.38, 0.6 , 0.79, 0.78, 0.75,\n",
       "       0.65, 0.97, 0.87, 0.4 , 0.54, 0.53, 0.58, 0.76, 0.3 , 0.64, 0.17,\n",
       "       0.2 , 0.77, 0.73, 0.41, 0.59, 0.57, 0.85, 0.56, 0.42, 0.44, 0.35,\n",
       "       0.14, 0.74, 0.27, 0.1 , 0.84, 0.06, 0.72, 0.36, 0.55, 0.43, 0.13,\n",
       "       0.39, 0.46, 0.26, 0.61, 0.52, 0.23, 0.22, 0.69, 0.66, 0.15, 0.11,\n",
       "       0.31, 0.21, 0.47])"
      ]
     },
     "execution_count": 58,
     "metadata": {},
     "output_type": "execute_result"
    }
   ],
   "source": [
    "df[\"host_response_rate\"].unique()"
   ]
  },
  {
   "cell_type": "code",
   "execution_count": 59,
   "id": "a94a3d57",
   "metadata": {},
   "outputs": [
    {
     "name": "stdout",
     "output_type": "stream",
     "text": [
      "<class 'pandas.core.frame.DataFrame'>\n",
      "Int64Index: 74110 entries, 0 to 74110\n",
      "Data columns (total 17 columns):\n",
      " #   Column                  Non-Null Count  Dtype  \n",
      "---  ------                  --------------  -----  \n",
      " 0   log_price               74110 non-null  float64\n",
      " 1   property_type           74110 non-null  object \n",
      " 2   room_type               74110 non-null  object \n",
      " 3   amenities               74110 non-null  object \n",
      " 4   accommodates            74110 non-null  int64  \n",
      " 5   bathrooms               74110 non-null  float64\n",
      " 6   bed_type                74110 non-null  object \n",
      " 7   cancellation_policy     74110 non-null  object \n",
      " 8   cleaning_fee            74110 non-null  bool   \n",
      " 9   city                    74110 non-null  object \n",
      " 10  host_identity_verified  74110 non-null  bool   \n",
      " 11  host_response_rate      74110 non-null  float64\n",
      " 12  instant_bookable        74110 non-null  bool   \n",
      " 13  number_of_reviews       74110 non-null  int64  \n",
      " 14  review_scores_rating    74110 non-null  float64\n",
      " 15  bedrooms                74110 non-null  float64\n",
      " 16  beds                    74110 non-null  float64\n",
      "dtypes: bool(3), float64(6), int64(2), object(6)\n",
      "memory usage: 8.7+ MB\n"
     ]
    }
   ],
   "source": [
    "df.info()"
   ]
  },
  {
   "cell_type": "code",
   "execution_count": 60,
   "id": "030b9657",
   "metadata": {},
   "outputs": [
    {
     "data": {
      "text/plain": [
       "array(['Entire home/apt', 'Private room', 'Shared room'], dtype=object)"
      ]
     },
     "execution_count": 60,
     "metadata": {},
     "output_type": "execute_result"
    }
   ],
   "source": [
    "df[\"room_type\"].unique()"
   ]
  },
  {
   "cell_type": "code",
   "execution_count": 61,
   "id": "c818860b",
   "metadata": {},
   "outputs": [
    {
     "data": {
      "text/plain": [
       "1    41310\n",
       "2    30638\n",
       "3     2162\n",
       "Name: room_type, dtype: int64"
      ]
     },
     "execution_count": 61,
     "metadata": {},
     "output_type": "execute_result"
    }
   ],
   "source": [
    "# numericalize values in room_type (Entire home/apt = 1, Private room = 2, Shared room = 3)\n",
    "numericalize(df,df[\"room_type\"],\"room_type\",None)\n",
    "df[\"room_type\"].value_counts()"
   ]
  },
  {
   "cell_type": "code",
   "execution_count": 62,
   "id": "1d721136",
   "metadata": {},
   "outputs": [
    {
     "data": {
      "text/plain": [
       "Real Bed         72027\n",
       "Futon              753\n",
       "Pull-out Sofa      585\n",
       "Airbed             477\n",
       "Couch              268\n",
       "Name: bed_type, dtype: int64"
      ]
     },
     "execution_count": 62,
     "metadata": {},
     "output_type": "execute_result"
    }
   ],
   "source": [
    "# view bed_type values and count of values\n",
    "df[\"bed_type\"].value_counts()"
   ]
  },
  {
   "cell_type": "code",
   "execution_count": 63,
   "id": "d68d3aa6",
   "metadata": {},
   "outputs": [
    {
     "data": {
      "text/plain": [
       "1    72027\n",
       "2     2083\n",
       "Name: bed_type, dtype: int64"
      ]
     },
     "execution_count": 63,
     "metadata": {},
     "output_type": "execute_result"
    }
   ],
   "source": [
    "# numericalize bed_type values (Real bed = 1, Others = 2)\n",
    "df[\"bed_type\"] = df[\"bed_type\"].apply(lambda x: 1 if x=='Real Bed' else 2)\n",
    "df[\"bed_type\"].value_counts()"
   ]
  },
  {
   "cell_type": "code",
   "execution_count": 64,
   "id": "0dbe2244",
   "metadata": {},
   "outputs": [
    {
     "data": {
      "text/plain": [
       "strict             32373\n",
       "flexible           22545\n",
       "moderate           19063\n",
       "super_strict_30      112\n",
       "super_strict_60       17\n",
       "Name: cancellation_policy, dtype: int64"
      ]
     },
     "execution_count": 64,
     "metadata": {},
     "output_type": "execute_result"
    }
   ],
   "source": [
    "df[\"cancellation_policy\"].value_counts()"
   ]
  },
  {
   "cell_type": "markdown",
   "id": "02debe44",
   "metadata": {},
   "source": [
    "> There are very few rows of super_strict_30 and super_strict_60. We will group them with strict."
   ]
  },
  {
   "cell_type": "code",
   "execution_count": 65,
   "id": "44edc079",
   "metadata": {},
   "outputs": [],
   "source": [
    "df[\"cancellation_policy\"] = df[\"cancellation_policy\"].apply(lambda x: 1 if x=='flexible' \n",
    "                                                            else 2 if x=='moderate' else 3)"
   ]
  },
  {
   "cell_type": "code",
   "execution_count": 66,
   "id": "5f9cd393",
   "metadata": {},
   "outputs": [
    {
     "data": {
      "text/plain": [
       "3    32502\n",
       "1    22545\n",
       "2    19063\n",
       "Name: cancellation_policy, dtype: int64"
      ]
     },
     "execution_count": 66,
     "metadata": {},
     "output_type": "execute_result"
    }
   ],
   "source": [
    "# numericalize column (flexible = 1, moderate = 2, strict = 3)\n",
    "#numericalize(df,df[\"cancellation_policy\"],\"cancellation_policy\",None)\n",
    "df[\"cancellation_policy\"].value_counts()"
   ]
  },
  {
   "cell_type": "code",
   "execution_count": 67,
   "id": "26d03448",
   "metadata": {},
   "outputs": [
    {
     "data": {
      "text/plain": [
       "array(['NYC', 'SF', 'DC', 'LA', 'Chicago', 'Boston'], dtype=object)"
      ]
     },
     "execution_count": 67,
     "metadata": {},
     "output_type": "execute_result"
    }
   ],
   "source": [
    "df[\"city\"].unique()"
   ]
  },
  {
   "cell_type": "code",
   "execution_count": 68,
   "id": "39062e4d",
   "metadata": {},
   "outputs": [],
   "source": [
    "# split the 6 cities into 6 columns of 0/1 values\n",
    "df = pd.concat([df, pd.get_dummies(df['city'], prefix='city')],axis=1)"
   ]
  },
  {
   "cell_type": "code",
   "execution_count": 69,
   "id": "d55e8199",
   "metadata": {},
   "outputs": [],
   "source": [
    "# drop city column\n",
    "df = df.drop(['city'],axis=1)"
   ]
  },
  {
   "cell_type": "code",
   "execution_count": 70,
   "id": "b73793d0",
   "metadata": {},
   "outputs": [],
   "source": [
    "# split string in amenities column, append items to list\n",
    "amenities_col = []\n",
    "for s in df[\"amenities\"]:\n",
    "    s = s.replace('{','')\n",
    "    s = s.replace('}','')\n",
    "    s = s.replace('\"','')\n",
    "    s = s.split(',')\n",
    "    amenities_col.append(max(len(s)-1,0))"
   ]
  },
  {
   "cell_type": "code",
   "execution_count": 71,
   "id": "b518933f",
   "metadata": {},
   "outputs": [
    {
     "data": {
      "text/html": [
       "<div>\n",
       "<style scoped>\n",
       "    .dataframe tbody tr th:only-of-type {\n",
       "        vertical-align: middle;\n",
       "    }\n",
       "\n",
       "    .dataframe tbody tr th {\n",
       "        vertical-align: top;\n",
       "    }\n",
       "\n",
       "    .dataframe thead th {\n",
       "        text-align: right;\n",
       "    }\n",
       "</style>\n",
       "<table border=\"1\" class=\"dataframe\">\n",
       "  <thead>\n",
       "    <tr style=\"text-align: right;\">\n",
       "      <th></th>\n",
       "      <th>log_price</th>\n",
       "      <th>property_type</th>\n",
       "      <th>room_type</th>\n",
       "      <th>amenities</th>\n",
       "      <th>accommodates</th>\n",
       "      <th>bathrooms</th>\n",
       "      <th>bed_type</th>\n",
       "      <th>cancellation_policy</th>\n",
       "      <th>cleaning_fee</th>\n",
       "      <th>host_identity_verified</th>\n",
       "      <th>...</th>\n",
       "      <th>review_scores_rating</th>\n",
       "      <th>bedrooms</th>\n",
       "      <th>beds</th>\n",
       "      <th>city_Boston</th>\n",
       "      <th>city_Chicago</th>\n",
       "      <th>city_DC</th>\n",
       "      <th>city_LA</th>\n",
       "      <th>city_NYC</th>\n",
       "      <th>city_SF</th>\n",
       "      <th>amenities_count</th>\n",
       "    </tr>\n",
       "  </thead>\n",
       "  <tbody>\n",
       "    <tr>\n",
       "      <th>0</th>\n",
       "      <td>5.010635</td>\n",
       "      <td>Apartment</td>\n",
       "      <td>1</td>\n",
       "      <td>{\"Wireless Internet\",\"Air conditioning\",Kitche...</td>\n",
       "      <td>3</td>\n",
       "      <td>1.0</td>\n",
       "      <td>1</td>\n",
       "      <td>3</td>\n",
       "      <td>True</td>\n",
       "      <td>True</td>\n",
       "      <td>...</td>\n",
       "      <td>100.000000</td>\n",
       "      <td>1.0</td>\n",
       "      <td>1.0</td>\n",
       "      <td>0</td>\n",
       "      <td>0</td>\n",
       "      <td>0</td>\n",
       "      <td>0</td>\n",
       "      <td>1</td>\n",
       "      <td>0</td>\n",
       "      <td>8.0</td>\n",
       "    </tr>\n",
       "    <tr>\n",
       "      <th>1</th>\n",
       "      <td>5.129899</td>\n",
       "      <td>Apartment</td>\n",
       "      <td>1</td>\n",
       "      <td>{\"Wireless Internet\",\"Air conditioning\",Kitche...</td>\n",
       "      <td>7</td>\n",
       "      <td>1.0</td>\n",
       "      <td>1</td>\n",
       "      <td>3</td>\n",
       "      <td>True</td>\n",
       "      <td>False</td>\n",
       "      <td>...</td>\n",
       "      <td>93.000000</td>\n",
       "      <td>3.0</td>\n",
       "      <td>3.0</td>\n",
       "      <td>0</td>\n",
       "      <td>0</td>\n",
       "      <td>0</td>\n",
       "      <td>0</td>\n",
       "      <td>1</td>\n",
       "      <td>0</td>\n",
       "      <td>14.0</td>\n",
       "    </tr>\n",
       "    <tr>\n",
       "      <th>2</th>\n",
       "      <td>4.976734</td>\n",
       "      <td>Apartment</td>\n",
       "      <td>1</td>\n",
       "      <td>{TV,\"Cable TV\",\"Wireless Internet\",\"Air condit...</td>\n",
       "      <td>5</td>\n",
       "      <td>1.0</td>\n",
       "      <td>1</td>\n",
       "      <td>2</td>\n",
       "      <td>True</td>\n",
       "      <td>True</td>\n",
       "      <td>...</td>\n",
       "      <td>92.000000</td>\n",
       "      <td>1.0</td>\n",
       "      <td>3.0</td>\n",
       "      <td>0</td>\n",
       "      <td>0</td>\n",
       "      <td>0</td>\n",
       "      <td>0</td>\n",
       "      <td>1</td>\n",
       "      <td>0</td>\n",
       "      <td>18.0</td>\n",
       "    </tr>\n",
       "    <tr>\n",
       "      <th>3</th>\n",
       "      <td>6.620073</td>\n",
       "      <td>House</td>\n",
       "      <td>1</td>\n",
       "      <td>{TV,\"Cable TV\",Internet,\"Wireless Internet\",Ki...</td>\n",
       "      <td>4</td>\n",
       "      <td>1.0</td>\n",
       "      <td>1</td>\n",
       "      <td>1</td>\n",
       "      <td>True</td>\n",
       "      <td>True</td>\n",
       "      <td>...</td>\n",
       "      <td>94.067488</td>\n",
       "      <td>2.0</td>\n",
       "      <td>2.0</td>\n",
       "      <td>0</td>\n",
       "      <td>0</td>\n",
       "      <td>0</td>\n",
       "      <td>0</td>\n",
       "      <td>0</td>\n",
       "      <td>1</td>\n",
       "      <td>14.0</td>\n",
       "    </tr>\n",
       "    <tr>\n",
       "      <th>4</th>\n",
       "      <td>4.744932</td>\n",
       "      <td>Apartment</td>\n",
       "      <td>1</td>\n",
       "      <td>{TV,Internet,\"Wireless Internet\",\"Air conditio...</td>\n",
       "      <td>2</td>\n",
       "      <td>1.0</td>\n",
       "      <td>1</td>\n",
       "      <td>2</td>\n",
       "      <td>True</td>\n",
       "      <td>True</td>\n",
       "      <td>...</td>\n",
       "      <td>40.000000</td>\n",
       "      <td>0.0</td>\n",
       "      <td>1.0</td>\n",
       "      <td>0</td>\n",
       "      <td>0</td>\n",
       "      <td>1</td>\n",
       "      <td>0</td>\n",
       "      <td>0</td>\n",
       "      <td>0</td>\n",
       "      <td>11.0</td>\n",
       "    </tr>\n",
       "    <tr>\n",
       "      <th>...</th>\n",
       "      <td>...</td>\n",
       "      <td>...</td>\n",
       "      <td>...</td>\n",
       "      <td>...</td>\n",
       "      <td>...</td>\n",
       "      <td>...</td>\n",
       "      <td>...</td>\n",
       "      <td>...</td>\n",
       "      <td>...</td>\n",
       "      <td>...</td>\n",
       "      <td>...</td>\n",
       "      <td>...</td>\n",
       "      <td>...</td>\n",
       "      <td>...</td>\n",
       "      <td>...</td>\n",
       "      <td>...</td>\n",
       "      <td>...</td>\n",
       "      <td>...</td>\n",
       "      <td>...</td>\n",
       "      <td>...</td>\n",
       "      <td>...</td>\n",
       "    </tr>\n",
       "    <tr>\n",
       "      <th>74106</th>\n",
       "      <td>4.605170</td>\n",
       "      <td>Apartment</td>\n",
       "      <td>2</td>\n",
       "      <td>{}</td>\n",
       "      <td>1</td>\n",
       "      <td>1.0</td>\n",
       "      <td>1</td>\n",
       "      <td>1</td>\n",
       "      <td>False</td>\n",
       "      <td>True</td>\n",
       "      <td>...</td>\n",
       "      <td>94.067488</td>\n",
       "      <td>1.0</td>\n",
       "      <td>1.0</td>\n",
       "      <td>0</td>\n",
       "      <td>0</td>\n",
       "      <td>0</td>\n",
       "      <td>0</td>\n",
       "      <td>1</td>\n",
       "      <td>0</td>\n",
       "      <td>15.0</td>\n",
       "    </tr>\n",
       "    <tr>\n",
       "      <th>74107</th>\n",
       "      <td>5.043425</td>\n",
       "      <td>Apartment</td>\n",
       "      <td>1</td>\n",
       "      <td>{TV,\"Cable TV\",Internet,\"Wireless Internet\",Ki...</td>\n",
       "      <td>4</td>\n",
       "      <td>2.0</td>\n",
       "      <td>1</td>\n",
       "      <td>2</td>\n",
       "      <td>True</td>\n",
       "      <td>False</td>\n",
       "      <td>...</td>\n",
       "      <td>93.000000</td>\n",
       "      <td>2.0</td>\n",
       "      <td>4.0</td>\n",
       "      <td>0</td>\n",
       "      <td>0</td>\n",
       "      <td>0</td>\n",
       "      <td>1</td>\n",
       "      <td>0</td>\n",
       "      <td>0</td>\n",
       "      <td>30.0</td>\n",
       "    </tr>\n",
       "    <tr>\n",
       "      <th>74108</th>\n",
       "      <td>5.220356</td>\n",
       "      <td>Apartment</td>\n",
       "      <td>1</td>\n",
       "      <td>{TV,Internet,\"Wireless Internet\",\"Air conditio...</td>\n",
       "      <td>5</td>\n",
       "      <td>1.0</td>\n",
       "      <td>1</td>\n",
       "      <td>2</td>\n",
       "      <td>True</td>\n",
       "      <td>True</td>\n",
       "      <td>...</td>\n",
       "      <td>94.000000</td>\n",
       "      <td>2.0</td>\n",
       "      <td>2.0</td>\n",
       "      <td>0</td>\n",
       "      <td>0</td>\n",
       "      <td>0</td>\n",
       "      <td>0</td>\n",
       "      <td>1</td>\n",
       "      <td>0</td>\n",
       "      <td>14.0</td>\n",
       "    </tr>\n",
       "    <tr>\n",
       "      <th>74109</th>\n",
       "      <td>5.273000</td>\n",
       "      <td>Apartment</td>\n",
       "      <td>1</td>\n",
       "      <td>{TV,\"Wireless Internet\",\"Air conditioning\",Kit...</td>\n",
       "      <td>2</td>\n",
       "      <td>1.0</td>\n",
       "      <td>1</td>\n",
       "      <td>3</td>\n",
       "      <td>True</td>\n",
       "      <td>False</td>\n",
       "      <td>...</td>\n",
       "      <td>94.067488</td>\n",
       "      <td>0.0</td>\n",
       "      <td>2.0</td>\n",
       "      <td>0</td>\n",
       "      <td>0</td>\n",
       "      <td>0</td>\n",
       "      <td>0</td>\n",
       "      <td>1</td>\n",
       "      <td>0</td>\n",
       "      <td>17.0</td>\n",
       "    </tr>\n",
       "    <tr>\n",
       "      <th>74110</th>\n",
       "      <td>4.852030</td>\n",
       "      <td>Boat</td>\n",
       "      <td>1</td>\n",
       "      <td>{TV,Internet,\"Wireless Internet\",Kitchen,\"Free...</td>\n",
       "      <td>4</td>\n",
       "      <td>1.0</td>\n",
       "      <td>1</td>\n",
       "      <td>2</td>\n",
       "      <td>False</td>\n",
       "      <td>True</td>\n",
       "      <td>...</td>\n",
       "      <td>96.000000</td>\n",
       "      <td>1.0</td>\n",
       "      <td>2.0</td>\n",
       "      <td>0</td>\n",
       "      <td>0</td>\n",
       "      <td>0</td>\n",
       "      <td>1</td>\n",
       "      <td>0</td>\n",
       "      <td>0</td>\n",
       "      <td>NaN</td>\n",
       "    </tr>\n",
       "  </tbody>\n",
       "</table>\n",
       "<p>74110 rows × 23 columns</p>\n",
       "</div>"
      ],
      "text/plain": [
       "       log_price property_type  room_type  \\\n",
       "0       5.010635     Apartment          1   \n",
       "1       5.129899     Apartment          1   \n",
       "2       4.976734     Apartment          1   \n",
       "3       6.620073         House          1   \n",
       "4       4.744932     Apartment          1   \n",
       "...          ...           ...        ...   \n",
       "74106   4.605170     Apartment          2   \n",
       "74107   5.043425     Apartment          1   \n",
       "74108   5.220356     Apartment          1   \n",
       "74109   5.273000     Apartment          1   \n",
       "74110   4.852030          Boat          1   \n",
       "\n",
       "                                               amenities  accommodates  \\\n",
       "0      {\"Wireless Internet\",\"Air conditioning\",Kitche...             3   \n",
       "1      {\"Wireless Internet\",\"Air conditioning\",Kitche...             7   \n",
       "2      {TV,\"Cable TV\",\"Wireless Internet\",\"Air condit...             5   \n",
       "3      {TV,\"Cable TV\",Internet,\"Wireless Internet\",Ki...             4   \n",
       "4      {TV,Internet,\"Wireless Internet\",\"Air conditio...             2   \n",
       "...                                                  ...           ...   \n",
       "74106                                                 {}             1   \n",
       "74107  {TV,\"Cable TV\",Internet,\"Wireless Internet\",Ki...             4   \n",
       "74108  {TV,Internet,\"Wireless Internet\",\"Air conditio...             5   \n",
       "74109  {TV,\"Wireless Internet\",\"Air conditioning\",Kit...             2   \n",
       "74110  {TV,Internet,\"Wireless Internet\",Kitchen,\"Free...             4   \n",
       "\n",
       "       bathrooms  bed_type  cancellation_policy  cleaning_fee  \\\n",
       "0            1.0         1                    3          True   \n",
       "1            1.0         1                    3          True   \n",
       "2            1.0         1                    2          True   \n",
       "3            1.0         1                    1          True   \n",
       "4            1.0         1                    2          True   \n",
       "...          ...       ...                  ...           ...   \n",
       "74106        1.0         1                    1         False   \n",
       "74107        2.0         1                    2          True   \n",
       "74108        1.0         1                    2          True   \n",
       "74109        1.0         1                    3          True   \n",
       "74110        1.0         1                    2         False   \n",
       "\n",
       "       host_identity_verified  ...  review_scores_rating  bedrooms  beds  \\\n",
       "0                        True  ...            100.000000       1.0   1.0   \n",
       "1                       False  ...             93.000000       3.0   3.0   \n",
       "2                        True  ...             92.000000       1.0   3.0   \n",
       "3                        True  ...             94.067488       2.0   2.0   \n",
       "4                        True  ...             40.000000       0.0   1.0   \n",
       "...                       ...  ...                   ...       ...   ...   \n",
       "74106                    True  ...             94.067488       1.0   1.0   \n",
       "74107                   False  ...             93.000000       2.0   4.0   \n",
       "74108                    True  ...             94.000000       2.0   2.0   \n",
       "74109                   False  ...             94.067488       0.0   2.0   \n",
       "74110                    True  ...             96.000000       1.0   2.0   \n",
       "\n",
       "       city_Boston  city_Chicago  city_DC  city_LA  city_NYC  city_SF  \\\n",
       "0                0             0        0        0         1        0   \n",
       "1                0             0        0        0         1        0   \n",
       "2                0             0        0        0         1        0   \n",
       "3                0             0        0        0         0        1   \n",
       "4                0             0        1        0         0        0   \n",
       "...            ...           ...      ...      ...       ...      ...   \n",
       "74106            0             0        0        0         1        0   \n",
       "74107            0             0        0        1         0        0   \n",
       "74108            0             0        0        0         1        0   \n",
       "74109            0             0        0        0         1        0   \n",
       "74110            0             0        0        1         0        0   \n",
       "\n",
       "       amenities_count  \n",
       "0                  8.0  \n",
       "1                 14.0  \n",
       "2                 18.0  \n",
       "3                 14.0  \n",
       "4                 11.0  \n",
       "...                ...  \n",
       "74106             15.0  \n",
       "74107             30.0  \n",
       "74108             14.0  \n",
       "74109             17.0  \n",
       "74110              NaN  \n",
       "\n",
       "[74110 rows x 23 columns]"
      ]
     },
     "execution_count": 71,
     "metadata": {},
     "output_type": "execute_result"
    }
   ],
   "source": [
    "# create new column as count of amenities\n",
    "df[\"amenities_count\"] = pd.Series(amenities_col)\n",
    "df"
   ]
  },
  {
   "cell_type": "markdown",
   "id": "a213cf59",
   "metadata": {},
   "source": [
    "> It seems last row is appearing as NaN, we will check the number of NaN rows"
   ]
  },
  {
   "cell_type": "code",
   "execution_count": 72,
   "id": "6b82f698",
   "metadata": {},
   "outputs": [
    {
     "data": {
      "text/plain": [
       "False    74109\n",
       "True         1\n",
       "Name: amenities_count, dtype: int64"
      ]
     },
     "execution_count": 72,
     "metadata": {},
     "output_type": "execute_result"
    }
   ],
   "source": [
    "df[\"amenities_count\"].isna().value_counts()"
   ]
  },
  {
   "cell_type": "markdown",
   "id": "05b714f9",
   "metadata": {},
   "source": [
    "> Only 1 row. We will fill up the NaN value with mean. Since it is of \"Boat\" property type we will use mean of \"Boat\"."
   ]
  },
  {
   "cell_type": "code",
   "execution_count": 73,
   "id": "df549a50",
   "metadata": {},
   "outputs": [],
   "source": [
    "property_type_boats = df[df['property_type'].str.contains(\"Boat\")]"
   ]
  },
  {
   "cell_type": "code",
   "execution_count": 74,
   "id": "db1054db",
   "metadata": {},
   "outputs": [],
   "source": [
    "df[\"amenities_count\"] = df[\"amenities_count\"].fillna(int(property_type_boats[\"amenities_count\"].mean()))"
   ]
  },
  {
   "cell_type": "code",
   "execution_count": 75,
   "id": "8350b987",
   "metadata": {},
   "outputs": [
    {
     "name": "stdout",
     "output_type": "stream",
     "text": [
      "<class 'pandas.core.frame.DataFrame'>\n",
      "Int64Index: 74110 entries, 0 to 74110\n",
      "Data columns (total 23 columns):\n",
      " #   Column                  Non-Null Count  Dtype  \n",
      "---  ------                  --------------  -----  \n",
      " 0   log_price               74110 non-null  float64\n",
      " 1   property_type           74110 non-null  object \n",
      " 2   room_type               74110 non-null  int8   \n",
      " 3   amenities               74110 non-null  object \n",
      " 4   accommodates            74110 non-null  int64  \n",
      " 5   bathrooms               74110 non-null  float64\n",
      " 6   bed_type                74110 non-null  int64  \n",
      " 7   cancellation_policy     74110 non-null  int64  \n",
      " 8   cleaning_fee            74110 non-null  bool   \n",
      " 9   host_identity_verified  74110 non-null  bool   \n",
      " 10  host_response_rate      74110 non-null  float64\n",
      " 11  instant_bookable        74110 non-null  bool   \n",
      " 12  number_of_reviews       74110 non-null  int64  \n",
      " 13  review_scores_rating    74110 non-null  float64\n",
      " 14  bedrooms                74110 non-null  float64\n",
      " 15  beds                    74110 non-null  float64\n",
      " 16  city_Boston             74110 non-null  uint8  \n",
      " 17  city_Chicago            74110 non-null  uint8  \n",
      " 18  city_DC                 74110 non-null  uint8  \n",
      " 19  city_LA                 74110 non-null  uint8  \n",
      " 20  city_NYC                74110 non-null  uint8  \n",
      " 21  city_SF                 74110 non-null  uint8  \n",
      " 22  amenities_count         74110 non-null  float64\n",
      "dtypes: bool(3), float64(7), int64(4), int8(1), object(2), uint8(6)\n",
      "memory usage: 8.6+ MB\n"
     ]
    }
   ],
   "source": [
    "df.info()"
   ]
  },
  {
   "cell_type": "code",
   "execution_count": 76,
   "id": "fcd2ab03",
   "metadata": {},
   "outputs": [],
   "source": [
    "# Convert amenities_count to int to make sure all values are whole numbers\n",
    "df['amenities_count'] = df['amenities_count'].astype(int)"
   ]
  },
  {
   "cell_type": "code",
   "execution_count": 78,
   "id": "1caa2550",
   "metadata": {},
   "outputs": [],
   "source": [
    "df = df.drop([\"amenities\"], axis=1)"
   ]
  },
  {
   "cell_type": "code",
   "execution_count": 77,
   "id": "6f573173",
   "metadata": {},
   "outputs": [],
   "source": [
    "# Convert values to decimal points\n",
    "df[\"review_scores_rating\"] = df[\"review_scores_rating\"]/100"
   ]
  },
  {
   "cell_type": "code",
   "execution_count": 79,
   "id": "98dcbb15",
   "metadata": {},
   "outputs": [
    {
     "data": {
      "text/plain": [
       "array(['Apartment', 'House', 'Condominium', 'Loft', 'Townhouse', 'Hostel',\n",
       "       'Guest suite', 'Bed & Breakfast', 'Bungalow', 'Guesthouse', 'Dorm',\n",
       "       'Other', 'Camper/RV', 'Villa', 'Boutique hotel', 'Timeshare',\n",
       "       'In-law', 'Boat', 'Serviced apartment', 'Castle', 'Cabin',\n",
       "       'Treehouse', 'Tipi', 'Vacation home', 'Tent', 'Hut',\n",
       "       'Casa particular', 'Chalet', 'Yurt', 'Earth House',\n",
       "       'Parking Space', 'Train', 'Cave', 'Lighthouse', 'Island'],\n",
       "      dtype=object)"
      ]
     },
     "execution_count": 79,
     "metadata": {},
     "output_type": "execute_result"
    }
   ],
   "source": [
    "# check unique values in property_type\n",
    "df.property_type.unique()"
   ]
  },
  {
   "cell_type": "markdown",
   "id": "c8082a74",
   "metadata": {},
   "source": [
    "> We will numericalize the column by applying each property type with its mean log price  "
   ]
  },
  {
   "cell_type": "code",
   "execution_count": 80,
   "id": "0cfb6afc",
   "metadata": {},
   "outputs": [
    {
     "data": {
      "text/plain": [
       "{'Apartment': 4.758850025405184,\n",
       " 'House': 4.797113575777436,\n",
       " 'Condominium': 5.028430393805644,\n",
       " 'Loft': 5.0079187888927565,\n",
       " 'Townhouse': 4.833538580315444,\n",
       " 'Hostel': 3.6473330657197867,\n",
       " 'Guest suite': 4.717513044476204,\n",
       " 'Bed & Breakfast': 4.556067512313946,\n",
       " 'Bungalow': 4.783267621119243,\n",
       " 'Guesthouse': 4.685184390801043,\n",
       " 'Dorm': 3.7461402760246605,\n",
       " 'Other': 4.946366802624568,\n",
       " 'Camper/RV': 4.602237913420423,\n",
       " 'Villa': 5.112426896999262,\n",
       " 'Boutique hotel': 5.083351792436799,\n",
       " 'Timeshare': 5.602600194590793,\n",
       " 'In-law': 4.816649318167724,\n",
       " 'Boat': 5.200864630766853,\n",
       " 'Serviced apartment': 5.147466758209801,\n",
       " 'Castle': 5.368423806591423,\n",
       " 'Cabin': 4.646498617159732,\n",
       " 'Treehouse': 4.84552011428258,\n",
       " 'Tipi': 5.246117704219109,\n",
       " 'Vacation home': 5.420951027891479,\n",
       " 'Tent': 4.197130952488377,\n",
       " 'Hut': 4.022836929917487,\n",
       " 'Casa particular': 4.382026634673881,\n",
       " 'Chalet': 4.764325278519716,\n",
       " 'Yurt': 4.944359564178421,\n",
       " 'Earth House': 5.285391225758667,\n",
       " 'Parking Space': 4.605170185988092,\n",
       " 'Train': 5.204398997807004,\n",
       " 'Cave': 4.909373162040518,\n",
       " 'Lighthouse': 5.521460917862246,\n",
       " 'Island': 5.010635294096256}"
      ]
     },
     "execution_count": 80,
     "metadata": {},
     "output_type": "execute_result"
    }
   ],
   "source": [
    "types = df[\"property_type\"].unique()\n",
    "pt_map = {}\n",
    "for t in types:\n",
    "    m = df[df[\"property_type\"] == t]['log_price'].mean() # get mean log price of each property type\n",
    "    pt_map[t] = m # Assign value mean \"m\" to key property_type \"t\" in dictionary\n",
    "\n",
    "pt_map"
   ]
  },
  {
   "cell_type": "code",
   "execution_count": 81,
   "id": "0d184174",
   "metadata": {},
   "outputs": [],
   "source": [
    "df[\"property_type\"] = df[\"property_type\"].apply(lambda x : pt_map[x]) # apply changes to column"
   ]
  },
  {
   "cell_type": "code",
   "execution_count": 82,
   "id": "39038f83",
   "metadata": {},
   "outputs": [
    {
     "data": {
      "text/html": [
       "<div>\n",
       "<style scoped>\n",
       "    .dataframe tbody tr th:only-of-type {\n",
       "        vertical-align: middle;\n",
       "    }\n",
       "\n",
       "    .dataframe tbody tr th {\n",
       "        vertical-align: top;\n",
       "    }\n",
       "\n",
       "    .dataframe thead th {\n",
       "        text-align: right;\n",
       "    }\n",
       "</style>\n",
       "<table border=\"1\" class=\"dataframe\">\n",
       "  <thead>\n",
       "    <tr style=\"text-align: right;\">\n",
       "      <th></th>\n",
       "      <th>log_price</th>\n",
       "      <th>property_type</th>\n",
       "      <th>room_type</th>\n",
       "      <th>accommodates</th>\n",
       "      <th>bathrooms</th>\n",
       "      <th>bed_type</th>\n",
       "      <th>cancellation_policy</th>\n",
       "      <th>cleaning_fee</th>\n",
       "      <th>host_identity_verified</th>\n",
       "      <th>host_response_rate</th>\n",
       "      <th>...</th>\n",
       "      <th>review_scores_rating</th>\n",
       "      <th>bedrooms</th>\n",
       "      <th>beds</th>\n",
       "      <th>city_Boston</th>\n",
       "      <th>city_Chicago</th>\n",
       "      <th>city_DC</th>\n",
       "      <th>city_LA</th>\n",
       "      <th>city_NYC</th>\n",
       "      <th>city_SF</th>\n",
       "      <th>amenities_count</th>\n",
       "    </tr>\n",
       "  </thead>\n",
       "  <tbody>\n",
       "    <tr>\n",
       "      <th>0</th>\n",
       "      <td>5.010635</td>\n",
       "      <td>4.758850</td>\n",
       "      <td>1</td>\n",
       "      <td>3</td>\n",
       "      <td>1.0</td>\n",
       "      <td>1</td>\n",
       "      <td>3</td>\n",
       "      <td>True</td>\n",
       "      <td>True</td>\n",
       "      <td>1.0</td>\n",
       "      <td>...</td>\n",
       "      <td>1.000000</td>\n",
       "      <td>1.0</td>\n",
       "      <td>1.0</td>\n",
       "      <td>0</td>\n",
       "      <td>0</td>\n",
       "      <td>0</td>\n",
       "      <td>0</td>\n",
       "      <td>1</td>\n",
       "      <td>0</td>\n",
       "      <td>8</td>\n",
       "    </tr>\n",
       "    <tr>\n",
       "      <th>1</th>\n",
       "      <td>5.129899</td>\n",
       "      <td>4.758850</td>\n",
       "      <td>1</td>\n",
       "      <td>7</td>\n",
       "      <td>1.0</td>\n",
       "      <td>1</td>\n",
       "      <td>3</td>\n",
       "      <td>True</td>\n",
       "      <td>False</td>\n",
       "      <td>1.0</td>\n",
       "      <td>...</td>\n",
       "      <td>0.930000</td>\n",
       "      <td>3.0</td>\n",
       "      <td>3.0</td>\n",
       "      <td>0</td>\n",
       "      <td>0</td>\n",
       "      <td>0</td>\n",
       "      <td>0</td>\n",
       "      <td>1</td>\n",
       "      <td>0</td>\n",
       "      <td>14</td>\n",
       "    </tr>\n",
       "    <tr>\n",
       "      <th>2</th>\n",
       "      <td>4.976734</td>\n",
       "      <td>4.758850</td>\n",
       "      <td>1</td>\n",
       "      <td>5</td>\n",
       "      <td>1.0</td>\n",
       "      <td>1</td>\n",
       "      <td>2</td>\n",
       "      <td>True</td>\n",
       "      <td>True</td>\n",
       "      <td>1.0</td>\n",
       "      <td>...</td>\n",
       "      <td>0.920000</td>\n",
       "      <td>1.0</td>\n",
       "      <td>3.0</td>\n",
       "      <td>0</td>\n",
       "      <td>0</td>\n",
       "      <td>0</td>\n",
       "      <td>0</td>\n",
       "      <td>1</td>\n",
       "      <td>0</td>\n",
       "      <td>18</td>\n",
       "    </tr>\n",
       "    <tr>\n",
       "      <th>3</th>\n",
       "      <td>6.620073</td>\n",
       "      <td>4.797114</td>\n",
       "      <td>1</td>\n",
       "      <td>4</td>\n",
       "      <td>1.0</td>\n",
       "      <td>1</td>\n",
       "      <td>1</td>\n",
       "      <td>True</td>\n",
       "      <td>True</td>\n",
       "      <td>1.0</td>\n",
       "      <td>...</td>\n",
       "      <td>0.940675</td>\n",
       "      <td>2.0</td>\n",
       "      <td>2.0</td>\n",
       "      <td>0</td>\n",
       "      <td>0</td>\n",
       "      <td>0</td>\n",
       "      <td>0</td>\n",
       "      <td>0</td>\n",
       "      <td>1</td>\n",
       "      <td>14</td>\n",
       "    </tr>\n",
       "    <tr>\n",
       "      <th>4</th>\n",
       "      <td>4.744932</td>\n",
       "      <td>4.758850</td>\n",
       "      <td>1</td>\n",
       "      <td>2</td>\n",
       "      <td>1.0</td>\n",
       "      <td>1</td>\n",
       "      <td>2</td>\n",
       "      <td>True</td>\n",
       "      <td>True</td>\n",
       "      <td>1.0</td>\n",
       "      <td>...</td>\n",
       "      <td>0.400000</td>\n",
       "      <td>0.0</td>\n",
       "      <td>1.0</td>\n",
       "      <td>0</td>\n",
       "      <td>0</td>\n",
       "      <td>1</td>\n",
       "      <td>0</td>\n",
       "      <td>0</td>\n",
       "      <td>0</td>\n",
       "      <td>11</td>\n",
       "    </tr>\n",
       "    <tr>\n",
       "      <th>...</th>\n",
       "      <td>...</td>\n",
       "      <td>...</td>\n",
       "      <td>...</td>\n",
       "      <td>...</td>\n",
       "      <td>...</td>\n",
       "      <td>...</td>\n",
       "      <td>...</td>\n",
       "      <td>...</td>\n",
       "      <td>...</td>\n",
       "      <td>...</td>\n",
       "      <td>...</td>\n",
       "      <td>...</td>\n",
       "      <td>...</td>\n",
       "      <td>...</td>\n",
       "      <td>...</td>\n",
       "      <td>...</td>\n",
       "      <td>...</td>\n",
       "      <td>...</td>\n",
       "      <td>...</td>\n",
       "      <td>...</td>\n",
       "      <td>...</td>\n",
       "    </tr>\n",
       "    <tr>\n",
       "      <th>74106</th>\n",
       "      <td>4.605170</td>\n",
       "      <td>4.758850</td>\n",
       "      <td>2</td>\n",
       "      <td>1</td>\n",
       "      <td>1.0</td>\n",
       "      <td>1</td>\n",
       "      <td>1</td>\n",
       "      <td>False</td>\n",
       "      <td>True</td>\n",
       "      <td>1.0</td>\n",
       "      <td>...</td>\n",
       "      <td>0.940675</td>\n",
       "      <td>1.0</td>\n",
       "      <td>1.0</td>\n",
       "      <td>0</td>\n",
       "      <td>0</td>\n",
       "      <td>0</td>\n",
       "      <td>0</td>\n",
       "      <td>1</td>\n",
       "      <td>0</td>\n",
       "      <td>15</td>\n",
       "    </tr>\n",
       "    <tr>\n",
       "      <th>74107</th>\n",
       "      <td>5.043425</td>\n",
       "      <td>4.758850</td>\n",
       "      <td>1</td>\n",
       "      <td>4</td>\n",
       "      <td>2.0</td>\n",
       "      <td>1</td>\n",
       "      <td>2</td>\n",
       "      <td>True</td>\n",
       "      <td>False</td>\n",
       "      <td>1.0</td>\n",
       "      <td>...</td>\n",
       "      <td>0.930000</td>\n",
       "      <td>2.0</td>\n",
       "      <td>4.0</td>\n",
       "      <td>0</td>\n",
       "      <td>0</td>\n",
       "      <td>0</td>\n",
       "      <td>1</td>\n",
       "      <td>0</td>\n",
       "      <td>0</td>\n",
       "      <td>30</td>\n",
       "    </tr>\n",
       "    <tr>\n",
       "      <th>74108</th>\n",
       "      <td>5.220356</td>\n",
       "      <td>4.758850</td>\n",
       "      <td>1</td>\n",
       "      <td>5</td>\n",
       "      <td>1.0</td>\n",
       "      <td>1</td>\n",
       "      <td>2</td>\n",
       "      <td>True</td>\n",
       "      <td>True</td>\n",
       "      <td>1.0</td>\n",
       "      <td>...</td>\n",
       "      <td>0.940000</td>\n",
       "      <td>2.0</td>\n",
       "      <td>2.0</td>\n",
       "      <td>0</td>\n",
       "      <td>0</td>\n",
       "      <td>0</td>\n",
       "      <td>0</td>\n",
       "      <td>1</td>\n",
       "      <td>0</td>\n",
       "      <td>14</td>\n",
       "    </tr>\n",
       "    <tr>\n",
       "      <th>74109</th>\n",
       "      <td>5.273000</td>\n",
       "      <td>4.758850</td>\n",
       "      <td>1</td>\n",
       "      <td>2</td>\n",
       "      <td>1.0</td>\n",
       "      <td>1</td>\n",
       "      <td>3</td>\n",
       "      <td>True</td>\n",
       "      <td>False</td>\n",
       "      <td>1.0</td>\n",
       "      <td>...</td>\n",
       "      <td>0.940675</td>\n",
       "      <td>0.0</td>\n",
       "      <td>2.0</td>\n",
       "      <td>0</td>\n",
       "      <td>0</td>\n",
       "      <td>0</td>\n",
       "      <td>0</td>\n",
       "      <td>1</td>\n",
       "      <td>0</td>\n",
       "      <td>17</td>\n",
       "    </tr>\n",
       "    <tr>\n",
       "      <th>74110</th>\n",
       "      <td>4.852030</td>\n",
       "      <td>5.200865</td>\n",
       "      <td>1</td>\n",
       "      <td>4</td>\n",
       "      <td>1.0</td>\n",
       "      <td>1</td>\n",
       "      <td>2</td>\n",
       "      <td>False</td>\n",
       "      <td>True</td>\n",
       "      <td>1.0</td>\n",
       "      <td>...</td>\n",
       "      <td>0.960000</td>\n",
       "      <td>1.0</td>\n",
       "      <td>2.0</td>\n",
       "      <td>0</td>\n",
       "      <td>0</td>\n",
       "      <td>0</td>\n",
       "      <td>1</td>\n",
       "      <td>0</td>\n",
       "      <td>0</td>\n",
       "      <td>16</td>\n",
       "    </tr>\n",
       "  </tbody>\n",
       "</table>\n",
       "<p>74110 rows × 22 columns</p>\n",
       "</div>"
      ],
      "text/plain": [
       "       log_price  property_type  room_type  accommodates  bathrooms  bed_type  \\\n",
       "0       5.010635       4.758850          1             3        1.0         1   \n",
       "1       5.129899       4.758850          1             7        1.0         1   \n",
       "2       4.976734       4.758850          1             5        1.0         1   \n",
       "3       6.620073       4.797114          1             4        1.0         1   \n",
       "4       4.744932       4.758850          1             2        1.0         1   \n",
       "...          ...            ...        ...           ...        ...       ...   \n",
       "74106   4.605170       4.758850          2             1        1.0         1   \n",
       "74107   5.043425       4.758850          1             4        2.0         1   \n",
       "74108   5.220356       4.758850          1             5        1.0         1   \n",
       "74109   5.273000       4.758850          1             2        1.0         1   \n",
       "74110   4.852030       5.200865          1             4        1.0         1   \n",
       "\n",
       "       cancellation_policy  cleaning_fee  host_identity_verified  \\\n",
       "0                        3          True                    True   \n",
       "1                        3          True                   False   \n",
       "2                        2          True                    True   \n",
       "3                        1          True                    True   \n",
       "4                        2          True                    True   \n",
       "...                    ...           ...                     ...   \n",
       "74106                    1         False                    True   \n",
       "74107                    2          True                   False   \n",
       "74108                    2          True                    True   \n",
       "74109                    3          True                   False   \n",
       "74110                    2         False                    True   \n",
       "\n",
       "       host_response_rate  ...  review_scores_rating  bedrooms  beds  \\\n",
       "0                     1.0  ...              1.000000       1.0   1.0   \n",
       "1                     1.0  ...              0.930000       3.0   3.0   \n",
       "2                     1.0  ...              0.920000       1.0   3.0   \n",
       "3                     1.0  ...              0.940675       2.0   2.0   \n",
       "4                     1.0  ...              0.400000       0.0   1.0   \n",
       "...                   ...  ...                   ...       ...   ...   \n",
       "74106                 1.0  ...              0.940675       1.0   1.0   \n",
       "74107                 1.0  ...              0.930000       2.0   4.0   \n",
       "74108                 1.0  ...              0.940000       2.0   2.0   \n",
       "74109                 1.0  ...              0.940675       0.0   2.0   \n",
       "74110                 1.0  ...              0.960000       1.0   2.0   \n",
       "\n",
       "       city_Boston  city_Chicago  city_DC  city_LA  city_NYC  city_SF  \\\n",
       "0                0             0        0        0         1        0   \n",
       "1                0             0        0        0         1        0   \n",
       "2                0             0        0        0         1        0   \n",
       "3                0             0        0        0         0        1   \n",
       "4                0             0        1        0         0        0   \n",
       "...            ...           ...      ...      ...       ...      ...   \n",
       "74106            0             0        0        0         1        0   \n",
       "74107            0             0        0        1         0        0   \n",
       "74108            0             0        0        0         1        0   \n",
       "74109            0             0        0        0         1        0   \n",
       "74110            0             0        0        1         0        0   \n",
       "\n",
       "       amenities_count  \n",
       "0                    8  \n",
       "1                   14  \n",
       "2                   18  \n",
       "3                   14  \n",
       "4                   11  \n",
       "...                ...  \n",
       "74106               15  \n",
       "74107               30  \n",
       "74108               14  \n",
       "74109               17  \n",
       "74110               16  \n",
       "\n",
       "[74110 rows x 22 columns]"
      ]
     },
     "execution_count": 82,
     "metadata": {},
     "output_type": "execute_result"
    }
   ],
   "source": [
    "df"
   ]
  },
  {
   "cell_type": "code",
   "execution_count": 83,
   "id": "e33b3350",
   "metadata": {},
   "outputs": [
    {
     "name": "stdout",
     "output_type": "stream",
     "text": [
      "<class 'pandas.core.frame.DataFrame'>\n",
      "Int64Index: 74110 entries, 0 to 74110\n",
      "Data columns (total 22 columns):\n",
      " #   Column                  Non-Null Count  Dtype  \n",
      "---  ------                  --------------  -----  \n",
      " 0   log_price               74110 non-null  float64\n",
      " 1   property_type           74110 non-null  float64\n",
      " 2   room_type               74110 non-null  int8   \n",
      " 3   accommodates            74110 non-null  int64  \n",
      " 4   bathrooms               74110 non-null  float64\n",
      " 5   bed_type                74110 non-null  int64  \n",
      " 6   cancellation_policy     74110 non-null  int64  \n",
      " 7   cleaning_fee            74110 non-null  bool   \n",
      " 8   host_identity_verified  74110 non-null  bool   \n",
      " 9   host_response_rate      74110 non-null  float64\n",
      " 10  instant_bookable        74110 non-null  bool   \n",
      " 11  number_of_reviews       74110 non-null  int64  \n",
      " 12  review_scores_rating    74110 non-null  float64\n",
      " 13  bedrooms                74110 non-null  float64\n",
      " 14  beds                    74110 non-null  float64\n",
      " 15  city_Boston             74110 non-null  uint8  \n",
      " 16  city_Chicago            74110 non-null  uint8  \n",
      " 17  city_DC                 74110 non-null  uint8  \n",
      " 18  city_LA                 74110 non-null  uint8  \n",
      " 19  city_NYC                74110 non-null  uint8  \n",
      " 20  city_SF                 74110 non-null  uint8  \n",
      " 21  amenities_count         74110 non-null  int64  \n",
      "dtypes: bool(3), float64(7), int64(5), int8(1), uint8(6)\n",
      "memory usage: 8.1 MB\n"
     ]
    }
   ],
   "source": [
    "df.info()"
   ]
  },
  {
   "cell_type": "code",
   "execution_count": 84,
   "id": "418b3b37",
   "metadata": {},
   "outputs": [],
   "source": [
    "# ---------------- End of Data Cleaning & Preprocessing ---------------- #"
   ]
  },
  {
   "cell_type": "code",
   "execution_count": 85,
   "id": "0e19250a",
   "metadata": {},
   "outputs": [],
   "source": [
    "df1 = df.copy()"
   ]
  },
  {
   "cell_type": "markdown",
   "id": "871d48ab",
   "metadata": {},
   "source": [
    "> Since we are predicting price, which is a continuous value and not a category, we will be using regression methods."
   ]
  },
  {
   "cell_type": "code",
   "execution_count": 86,
   "id": "ecff01b4",
   "metadata": {},
   "outputs": [],
   "source": [
    "x,y,_ = proc_df(df1,'log_price')"
   ]
  },
  {
   "cell_type": "code",
   "execution_count": 87,
   "id": "ddde2be4",
   "metadata": {},
   "outputs": [
    {
     "data": {
      "text/html": [
       "<div>\n",
       "<style scoped>\n",
       "    .dataframe tbody tr th:only-of-type {\n",
       "        vertical-align: middle;\n",
       "    }\n",
       "\n",
       "    .dataframe tbody tr th {\n",
       "        vertical-align: top;\n",
       "    }\n",
       "\n",
       "    .dataframe thead th {\n",
       "        text-align: right;\n",
       "    }\n",
       "</style>\n",
       "<table border=\"1\" class=\"dataframe\">\n",
       "  <thead>\n",
       "    <tr style=\"text-align: right;\">\n",
       "      <th></th>\n",
       "      <th>property_type</th>\n",
       "      <th>room_type</th>\n",
       "      <th>accommodates</th>\n",
       "      <th>bathrooms</th>\n",
       "      <th>bed_type</th>\n",
       "      <th>cancellation_policy</th>\n",
       "      <th>cleaning_fee</th>\n",
       "      <th>host_identity_verified</th>\n",
       "      <th>host_response_rate</th>\n",
       "      <th>instant_bookable</th>\n",
       "      <th>...</th>\n",
       "      <th>review_scores_rating</th>\n",
       "      <th>bedrooms</th>\n",
       "      <th>beds</th>\n",
       "      <th>city_Boston</th>\n",
       "      <th>city_Chicago</th>\n",
       "      <th>city_DC</th>\n",
       "      <th>city_LA</th>\n",
       "      <th>city_NYC</th>\n",
       "      <th>city_SF</th>\n",
       "      <th>amenities_count</th>\n",
       "    </tr>\n",
       "  </thead>\n",
       "  <tbody>\n",
       "    <tr>\n",
       "      <th>0</th>\n",
       "      <td>4.758850</td>\n",
       "      <td>1</td>\n",
       "      <td>3</td>\n",
       "      <td>1.0</td>\n",
       "      <td>1</td>\n",
       "      <td>3</td>\n",
       "      <td>True</td>\n",
       "      <td>True</td>\n",
       "      <td>1.0</td>\n",
       "      <td>False</td>\n",
       "      <td>...</td>\n",
       "      <td>1.000000</td>\n",
       "      <td>1.0</td>\n",
       "      <td>1.0</td>\n",
       "      <td>0</td>\n",
       "      <td>0</td>\n",
       "      <td>0</td>\n",
       "      <td>0</td>\n",
       "      <td>1</td>\n",
       "      <td>0</td>\n",
       "      <td>8</td>\n",
       "    </tr>\n",
       "    <tr>\n",
       "      <th>1</th>\n",
       "      <td>4.758850</td>\n",
       "      <td>1</td>\n",
       "      <td>7</td>\n",
       "      <td>1.0</td>\n",
       "      <td>1</td>\n",
       "      <td>3</td>\n",
       "      <td>True</td>\n",
       "      <td>False</td>\n",
       "      <td>1.0</td>\n",
       "      <td>True</td>\n",
       "      <td>...</td>\n",
       "      <td>0.930000</td>\n",
       "      <td>3.0</td>\n",
       "      <td>3.0</td>\n",
       "      <td>0</td>\n",
       "      <td>0</td>\n",
       "      <td>0</td>\n",
       "      <td>0</td>\n",
       "      <td>1</td>\n",
       "      <td>0</td>\n",
       "      <td>14</td>\n",
       "    </tr>\n",
       "    <tr>\n",
       "      <th>2</th>\n",
       "      <td>4.758850</td>\n",
       "      <td>1</td>\n",
       "      <td>5</td>\n",
       "      <td>1.0</td>\n",
       "      <td>1</td>\n",
       "      <td>2</td>\n",
       "      <td>True</td>\n",
       "      <td>True</td>\n",
       "      <td>1.0</td>\n",
       "      <td>True</td>\n",
       "      <td>...</td>\n",
       "      <td>0.920000</td>\n",
       "      <td>1.0</td>\n",
       "      <td>3.0</td>\n",
       "      <td>0</td>\n",
       "      <td>0</td>\n",
       "      <td>0</td>\n",
       "      <td>0</td>\n",
       "      <td>1</td>\n",
       "      <td>0</td>\n",
       "      <td>18</td>\n",
       "    </tr>\n",
       "    <tr>\n",
       "      <th>3</th>\n",
       "      <td>4.797114</td>\n",
       "      <td>1</td>\n",
       "      <td>4</td>\n",
       "      <td>1.0</td>\n",
       "      <td>1</td>\n",
       "      <td>1</td>\n",
       "      <td>True</td>\n",
       "      <td>True</td>\n",
       "      <td>1.0</td>\n",
       "      <td>False</td>\n",
       "      <td>...</td>\n",
       "      <td>0.940675</td>\n",
       "      <td>2.0</td>\n",
       "      <td>2.0</td>\n",
       "      <td>0</td>\n",
       "      <td>0</td>\n",
       "      <td>0</td>\n",
       "      <td>0</td>\n",
       "      <td>0</td>\n",
       "      <td>1</td>\n",
       "      <td>14</td>\n",
       "    </tr>\n",
       "    <tr>\n",
       "      <th>4</th>\n",
       "      <td>4.758850</td>\n",
       "      <td>1</td>\n",
       "      <td>2</td>\n",
       "      <td>1.0</td>\n",
       "      <td>1</td>\n",
       "      <td>2</td>\n",
       "      <td>True</td>\n",
       "      <td>True</td>\n",
       "      <td>1.0</td>\n",
       "      <td>True</td>\n",
       "      <td>...</td>\n",
       "      <td>0.400000</td>\n",
       "      <td>0.0</td>\n",
       "      <td>1.0</td>\n",
       "      <td>0</td>\n",
       "      <td>0</td>\n",
       "      <td>1</td>\n",
       "      <td>0</td>\n",
       "      <td>0</td>\n",
       "      <td>0</td>\n",
       "      <td>11</td>\n",
       "    </tr>\n",
       "    <tr>\n",
       "      <th>...</th>\n",
       "      <td>...</td>\n",
       "      <td>...</td>\n",
       "      <td>...</td>\n",
       "      <td>...</td>\n",
       "      <td>...</td>\n",
       "      <td>...</td>\n",
       "      <td>...</td>\n",
       "      <td>...</td>\n",
       "      <td>...</td>\n",
       "      <td>...</td>\n",
       "      <td>...</td>\n",
       "      <td>...</td>\n",
       "      <td>...</td>\n",
       "      <td>...</td>\n",
       "      <td>...</td>\n",
       "      <td>...</td>\n",
       "      <td>...</td>\n",
       "      <td>...</td>\n",
       "      <td>...</td>\n",
       "      <td>...</td>\n",
       "      <td>...</td>\n",
       "    </tr>\n",
       "    <tr>\n",
       "      <th>74106</th>\n",
       "      <td>4.758850</td>\n",
       "      <td>2</td>\n",
       "      <td>1</td>\n",
       "      <td>1.0</td>\n",
       "      <td>1</td>\n",
       "      <td>1</td>\n",
       "      <td>False</td>\n",
       "      <td>True</td>\n",
       "      <td>1.0</td>\n",
       "      <td>False</td>\n",
       "      <td>...</td>\n",
       "      <td>0.940675</td>\n",
       "      <td>1.0</td>\n",
       "      <td>1.0</td>\n",
       "      <td>0</td>\n",
       "      <td>0</td>\n",
       "      <td>0</td>\n",
       "      <td>0</td>\n",
       "      <td>1</td>\n",
       "      <td>0</td>\n",
       "      <td>15</td>\n",
       "    </tr>\n",
       "    <tr>\n",
       "      <th>74107</th>\n",
       "      <td>4.758850</td>\n",
       "      <td>1</td>\n",
       "      <td>4</td>\n",
       "      <td>2.0</td>\n",
       "      <td>1</td>\n",
       "      <td>2</td>\n",
       "      <td>True</td>\n",
       "      <td>False</td>\n",
       "      <td>1.0</td>\n",
       "      <td>False</td>\n",
       "      <td>...</td>\n",
       "      <td>0.930000</td>\n",
       "      <td>2.0</td>\n",
       "      <td>4.0</td>\n",
       "      <td>0</td>\n",
       "      <td>0</td>\n",
       "      <td>0</td>\n",
       "      <td>1</td>\n",
       "      <td>0</td>\n",
       "      <td>0</td>\n",
       "      <td>30</td>\n",
       "    </tr>\n",
       "    <tr>\n",
       "      <th>74108</th>\n",
       "      <td>4.758850</td>\n",
       "      <td>1</td>\n",
       "      <td>5</td>\n",
       "      <td>1.0</td>\n",
       "      <td>1</td>\n",
       "      <td>2</td>\n",
       "      <td>True</td>\n",
       "      <td>True</td>\n",
       "      <td>1.0</td>\n",
       "      <td>True</td>\n",
       "      <td>...</td>\n",
       "      <td>0.940000</td>\n",
       "      <td>2.0</td>\n",
       "      <td>2.0</td>\n",
       "      <td>0</td>\n",
       "      <td>0</td>\n",
       "      <td>0</td>\n",
       "      <td>0</td>\n",
       "      <td>1</td>\n",
       "      <td>0</td>\n",
       "      <td>14</td>\n",
       "    </tr>\n",
       "    <tr>\n",
       "      <th>74109</th>\n",
       "      <td>4.758850</td>\n",
       "      <td>1</td>\n",
       "      <td>2</td>\n",
       "      <td>1.0</td>\n",
       "      <td>1</td>\n",
       "      <td>3</td>\n",
       "      <td>True</td>\n",
       "      <td>False</td>\n",
       "      <td>1.0</td>\n",
       "      <td>True</td>\n",
       "      <td>...</td>\n",
       "      <td>0.940675</td>\n",
       "      <td>0.0</td>\n",
       "      <td>2.0</td>\n",
       "      <td>0</td>\n",
       "      <td>0</td>\n",
       "      <td>0</td>\n",
       "      <td>0</td>\n",
       "      <td>1</td>\n",
       "      <td>0</td>\n",
       "      <td>17</td>\n",
       "    </tr>\n",
       "    <tr>\n",
       "      <th>74110</th>\n",
       "      <td>5.200865</td>\n",
       "      <td>1</td>\n",
       "      <td>4</td>\n",
       "      <td>1.0</td>\n",
       "      <td>1</td>\n",
       "      <td>2</td>\n",
       "      <td>False</td>\n",
       "      <td>True</td>\n",
       "      <td>1.0</td>\n",
       "      <td>False</td>\n",
       "      <td>...</td>\n",
       "      <td>0.960000</td>\n",
       "      <td>1.0</td>\n",
       "      <td>2.0</td>\n",
       "      <td>0</td>\n",
       "      <td>0</td>\n",
       "      <td>0</td>\n",
       "      <td>1</td>\n",
       "      <td>0</td>\n",
       "      <td>0</td>\n",
       "      <td>16</td>\n",
       "    </tr>\n",
       "  </tbody>\n",
       "</table>\n",
       "<p>74110 rows × 21 columns</p>\n",
       "</div>"
      ],
      "text/plain": [
       "       property_type  room_type  accommodates  bathrooms  bed_type  \\\n",
       "0           4.758850          1             3        1.0         1   \n",
       "1           4.758850          1             7        1.0         1   \n",
       "2           4.758850          1             5        1.0         1   \n",
       "3           4.797114          1             4        1.0         1   \n",
       "4           4.758850          1             2        1.0         1   \n",
       "...              ...        ...           ...        ...       ...   \n",
       "74106       4.758850          2             1        1.0         1   \n",
       "74107       4.758850          1             4        2.0         1   \n",
       "74108       4.758850          1             5        1.0         1   \n",
       "74109       4.758850          1             2        1.0         1   \n",
       "74110       5.200865          1             4        1.0         1   \n",
       "\n",
       "       cancellation_policy  cleaning_fee  host_identity_verified  \\\n",
       "0                        3          True                    True   \n",
       "1                        3          True                   False   \n",
       "2                        2          True                    True   \n",
       "3                        1          True                    True   \n",
       "4                        2          True                    True   \n",
       "...                    ...           ...                     ...   \n",
       "74106                    1         False                    True   \n",
       "74107                    2          True                   False   \n",
       "74108                    2          True                    True   \n",
       "74109                    3          True                   False   \n",
       "74110                    2         False                    True   \n",
       "\n",
       "       host_response_rate  instant_bookable  ...  review_scores_rating  \\\n",
       "0                     1.0             False  ...              1.000000   \n",
       "1                     1.0              True  ...              0.930000   \n",
       "2                     1.0              True  ...              0.920000   \n",
       "3                     1.0             False  ...              0.940675   \n",
       "4                     1.0              True  ...              0.400000   \n",
       "...                   ...               ...  ...                   ...   \n",
       "74106                 1.0             False  ...              0.940675   \n",
       "74107                 1.0             False  ...              0.930000   \n",
       "74108                 1.0              True  ...              0.940000   \n",
       "74109                 1.0              True  ...              0.940675   \n",
       "74110                 1.0             False  ...              0.960000   \n",
       "\n",
       "       bedrooms  beds  city_Boston  city_Chicago  city_DC  city_LA  city_NYC  \\\n",
       "0           1.0   1.0            0             0        0        0         1   \n",
       "1           3.0   3.0            0             0        0        0         1   \n",
       "2           1.0   3.0            0             0        0        0         1   \n",
       "3           2.0   2.0            0             0        0        0         0   \n",
       "4           0.0   1.0            0             0        1        0         0   \n",
       "...         ...   ...          ...           ...      ...      ...       ...   \n",
       "74106       1.0   1.0            0             0        0        0         1   \n",
       "74107       2.0   4.0            0             0        0        1         0   \n",
       "74108       2.0   2.0            0             0        0        0         1   \n",
       "74109       0.0   2.0            0             0        0        0         1   \n",
       "74110       1.0   2.0            0             0        0        1         0   \n",
       "\n",
       "       city_SF  amenities_count  \n",
       "0            0                8  \n",
       "1            0               14  \n",
       "2            0               18  \n",
       "3            1               14  \n",
       "4            0               11  \n",
       "...        ...              ...  \n",
       "74106        0               15  \n",
       "74107        0               30  \n",
       "74108        0               14  \n",
       "74109        0               17  \n",
       "74110        0               16  \n",
       "\n",
       "[74110 rows x 21 columns]"
      ]
     },
     "execution_count": 87,
     "metadata": {},
     "output_type": "execute_result"
    }
   ],
   "source": [
    "x"
   ]
  },
  {
   "cell_type": "code",
   "execution_count": 88,
   "id": "75a99dbc",
   "metadata": {},
   "outputs": [
    {
     "data": {
      "text/plain": [
       "array([5.01063529, 5.12989871, 4.97673374, ..., 5.22035583, 5.27299956,\n",
       "       4.85203026])"
      ]
     },
     "execution_count": 88,
     "metadata": {},
     "output_type": "execute_result"
    }
   ],
   "source": [
    "y"
   ]
  },
  {
   "cell_type": "code",
   "execution_count": 89,
   "id": "06459daf",
   "metadata": {},
   "outputs": [
    {
     "data": {
      "text/plain": [
       "RandomForestRegressor(n_estimators=10, n_jobs=-1, random_state=42)"
      ]
     },
     "execution_count": 89,
     "metadata": {},
     "output_type": "execute_result"
    }
   ],
   "source": [
    "model = RandomForestRegressor(n_estimators = 10, n_jobs = -1, random_state = 42)\n",
    "\n",
    "model.fit(x, y)"
   ]
  },
  {
   "cell_type": "code",
   "execution_count": 90,
   "id": "73d91586",
   "metadata": {},
   "outputs": [
    {
     "data": {
      "text/plain": [
       "(property_type             4.75885\n",
       " room_type                       1\n",
       " accommodates                    3\n",
       " bathrooms                     1.0\n",
       " bed_type                        1\n",
       " cancellation_policy             3\n",
       " cleaning_fee                 True\n",
       " host_identity_verified       True\n",
       " host_response_rate            1.0\n",
       " instant_bookable            False\n",
       " number_of_reviews               2\n",
       " review_scores_rating          1.0\n",
       " bedrooms                      1.0\n",
       " beds                          1.0\n",
       " city_Boston                     0\n",
       " city_Chicago                    0\n",
       " city_DC                         0\n",
       " city_LA                         0\n",
       " city_NYC                        1\n",
       " city_SF                         0\n",
       " amenities_count                 8\n",
       " Name: 0, dtype: object,\n",
       " 150.00000000000009)"
      ]
     },
     "execution_count": 90,
     "metadata": {},
     "output_type": "execute_result"
    }
   ],
   "source": [
    "x1 = x.iloc[0]\n",
    "y_true = np.exp(y[0])\n",
    "x1, y_true"
   ]
  },
  {
   "cell_type": "code",
   "execution_count": 91,
   "id": "ac63432b",
   "metadata": {},
   "outputs": [
    {
     "name": "stderr",
     "output_type": "stream",
     "text": [
      "/Users/grantyong/opt/anaconda3/lib/python3.9/site-packages/sklearn/base.py:450: UserWarning: X does not have valid feature names, but RandomForestRegressor was fitted with feature names\n",
      "  warnings.warn(\n"
     ]
    },
    {
     "data": {
      "text/plain": [
       "150.41268592857665"
      ]
     },
     "execution_count": 91,
     "metadata": {},
     "output_type": "execute_result"
    }
   ],
   "source": [
    "x1 = [x1]                   # wrap the data point into a list\n",
    "y_pred = model.predict(x1) # prediction, as list\n",
    "y_pred = y_pred[0]        # take first element of predicted list\n",
    "y_pred = np.exp(y_pred)   # exponentialize\n",
    "y_pred"
   ]
  },
  {
   "cell_type": "code",
   "execution_count": 92,
   "id": "c2ee7e12",
   "metadata": {},
   "outputs": [
    {
     "data": {
      "text/plain": [
       "0.9022470014168135"
      ]
     },
     "execution_count": 92,
     "metadata": {},
     "output_type": "execute_result"
    }
   ],
   "source": [
    "model.score(x, y)"
   ]
  },
  {
   "cell_type": "code",
   "execution_count": 93,
   "id": "f45f49a7",
   "metadata": {},
   "outputs": [],
   "source": [
    "# function to split dataset\n",
    "def split_vals(x, n): \n",
    "    return x[:n].copy(), x[n:].copy()"
   ]
  },
  {
   "cell_type": "code",
   "execution_count": 94,
   "id": "5f114654",
   "metadata": {},
   "outputs": [
    {
     "name": "stdout",
     "output_type": "stream",
     "text": [
      "full number of data points : 74110\n",
      "number of validation data points : 14822\n",
      "number of training data points : 59288\n",
      "number of subsampled training points : 18527\n"
     ]
    }
   ],
   "source": [
    "# setting train, subset and validation set sizes\n",
    "\n",
    "n_total = len(x)\n",
    "n_valid = int(len(x)*0.2)  # 20% of dataset\n",
    "n_train = n_total - n_valid\n",
    "n_small = int(len(x)*0.25)  # 25% of dataset\n",
    "\n",
    "print('full number of data points : {}'.format(n_total))\n",
    "print('number of validation data points : {}'.format(n_valid))\n",
    "print('number of training data points : {}'.format(n_train))\n",
    "print('number of subsampled training points : {}'.format(n_small))"
   ]
  },
  {
   "cell_type": "code",
   "execution_count": 95,
   "id": "3aa21f32",
   "metadata": {},
   "outputs": [
    {
     "name": "stdout",
     "output_type": "stream",
     "text": [
      "Number of small training data points: X = (18527, 21), y = (18527,)\n",
      "Number of full training data points: X = (59288, 21), y = (59288,)\n",
      "Number of validation data points: X = (14822, 21), y = (14822,)\n"
     ]
    }
   ],
   "source": [
    "# splitting data to train, small and valid\n",
    "\n",
    "X_train, X_valid = split_vals(x, n_train)\n",
    "y_train, y_valid = split_vals(y, n_train)\n",
    "\n",
    "X_small, _ = split_vals(X_train, n_small)\n",
    "y_small, _ = split_vals(y_train, n_small)\n",
    "\n",
    "print('Number of small training data points: X = {}, y = {}'.format(X_small.shape, y_small.shape))\n",
    "print('Number of full training data points: X = {}, y = {}'.format(X_train.shape, y_train.shape))\n",
    "print('Number of validation data points: X = {}, y = {}'.format(X_valid.shape, y_valid.shape))"
   ]
  },
  {
   "cell_type": "code",
   "execution_count": 96,
   "id": "6196aadf",
   "metadata": {},
   "outputs": [],
   "source": [
    "# function to calculate rmse\n",
    "def rmse(y_gold, y_pred): \n",
    "    return math.sqrt(((y_gold - y_pred)**2).mean())"
   ]
  },
  {
   "cell_type": "code",
   "execution_count": 97,
   "id": "c3313afe",
   "metadata": {},
   "outputs": [],
   "source": [
    "# function to print scores\n",
    "def print_score(m, X_train, y_train, X_valid, y_valid):\n",
    "    print('RMSE on train set: {:.4f}'.format(rmse(m.predict(X_train), y_train)))\n",
    "    print('RMSE on valid set: {:.4f}'.format(rmse(m.predict(X_valid), y_valid)))\n",
    "    print('R^2 on train set: {:.4f}'.format(m.score(X_train, y_train)))\n",
    "    print('R^2 on valid set: {:.4f}'.format(m.score(X_valid, y_valid)))\n",
    "    if hasattr(m, 'oob_score_'): print('R^2 on oob set: {:.4f}'.format(m.oob_score_))\n",
    "    return"
   ]
  },
  {
   "cell_type": "code",
   "execution_count": 98,
   "id": "ba111822",
   "metadata": {},
   "outputs": [
    {
     "name": "stdout",
     "output_type": "stream",
     "text": [
      "CPU times: user 758 ms, sys: 15.2 ms, total: 773 ms\n",
      "Wall time: 188 ms\n",
      "RMSE on train set: 0.2114\n",
      "RMSE on valid set: 0.4995\n",
      "R^2 on train set: 0.9129\n",
      "R^2 on valid set: 0.5172\n"
     ]
    }
   ],
   "source": [
    "# trying a base model on subset of data\n",
    "base_model = RandomForestRegressor(n_estimators = 10, n_jobs = -1, random_state = 42)\n",
    "\n",
    "%time base_model.fit(X_small, y_small)\n",
    "print_score(base_model, X_small, y_small, X_valid, y_valid)"
   ]
  },
  {
   "cell_type": "code",
   "execution_count": 99,
   "id": "de6d4812",
   "metadata": {},
   "outputs": [
    {
     "name": "stdout",
     "output_type": "stream",
     "text": [
      "CPU times: user 2.34 s, sys: 22 ms, total: 2.37 s\n",
      "Wall time: 512 ms\n",
      "RMSE on train set: 0.2217\n",
      "RMSE on valid set: 0.4881\n",
      "R^2 on train set: 0.9043\n",
      "R^2 on valid set: 0.5390\n"
     ]
    }
   ],
   "source": [
    "# model on full training data\n",
    "base_model = RandomForestRegressor(n_estimators = 10, n_jobs = -1, random_state = 42)\n",
    "\n",
    "%time base_model.fit(X_train, y_train)\n",
    "print_score(base_model, X_train, y_train, X_valid, y_valid)"
   ]
  },
  {
   "cell_type": "markdown",
   "id": "7cd89927",
   "metadata": {},
   "source": [
    "> It seems we are overfitting badly"
   ]
  },
  {
   "cell_type": "code",
   "execution_count": 100,
   "id": "0799e206",
   "metadata": {},
   "outputs": [
    {
     "name": "stdout",
     "output_type": "stream",
     "text": [
      "CPU times: user 5.15 s, sys: 43.1 ms, total: 5.19 s\n",
      "Wall time: 934 ms\n",
      "RMSE on train set: 0.4248\n",
      "RMSE on valid set: 0.4560\n",
      "R^2 on train set: 0.6487\n",
      "R^2 on valid set: 0.5976\n",
      "R^2 on oob set: 0.6043\n"
     ]
    }
   ],
   "source": [
    "# Trying more parameters to find optimum score (Try 1)\n",
    "\n",
    "model = RandomForestRegressor(\n",
    "    # parameters shared with DecisionTreeRegressor\n",
    "    n_estimators = 50, # 100 # 1 = the model is a single tree\n",
    "    criterion = 'squared_error', \n",
    "    max_depth = 10, # None\n",
    "    min_samples_split = 2, \n",
    "    min_samples_leaf = 1,\n",
    "    min_weight_fraction_leaf = 0.0, \n",
    "    max_features = 'auto', \n",
    "    max_leaf_nodes = None, \n",
    "    min_impurity_decrease = 0.0,\n",
    "    ccp_alpha = 0.0, \n",
    "    random_state = 42, # None, \n",
    "    \n",
    "    # RandomForestRegressor specific hyperparameters\n",
    "    bootstrap = True,\n",
    "    oob_score = True, \n",
    "    max_samples = None,\n",
    "\n",
    "    # extra parameters\n",
    "    warm_start = False, \n",
    "    n_jobs = -1, # None \n",
    "    verbose = 0, \n",
    ")\n",
    "\n",
    "%time model.fit(X_train, y_train)\n",
    "print_score(model, X_train, y_train, X_valid, y_valid)"
   ]
  },
  {
   "cell_type": "code",
   "execution_count": 101,
   "id": "0ef39c0d",
   "metadata": {},
   "outputs": [
    {
     "name": "stdout",
     "output_type": "stream",
     "text": [
      "CPU times: user 3.33 s, sys: 32.6 ms, total: 3.36 s\n",
      "Wall time: 674 ms\n",
      "RMSE on train set: 0.3635\n",
      "RMSE on valid set: 0.4518\n",
      "R^2 on train set: 0.7428\n",
      "R^2 on valid set: 0.6051\n",
      "R^2 on oob set: 0.6063\n"
     ]
    }
   ],
   "source": [
    "# Trying more parameters to find optimum score (Try 2)\n",
    "\n",
    "model = RandomForestRegressor(\n",
    "    n_estimators = 40, \n",
    "    criterion = 'squared_error', \n",
    "    \n",
    "    # stoping criteria\n",
    "    max_depth = 15,\n",
    "    min_samples_split = 2, \n",
    "    min_samples_leaf = 1,\n",
    "    min_weight_fraction_leaf = 0.0, \n",
    "    max_leaf_nodes = None, \n",
    "    min_impurity_decrease = 0.0, \n",
    "    ccp_alpha = 0.0, \n",
    " \n",
    "    # bagging parameters\n",
    "    max_features = 0.5, \n",
    "    bootstrap = True,\n",
    "    oob_score = True, \n",
    "    max_samples = None,\n",
    "    \n",
    "    # other\n",
    "    warm_start = False, \n",
    "    n_jobs = -1, # None \n",
    "    random_state = 42, # None,\n",
    "    verbose = 0, \n",
    ")\n",
    "\n",
    "%time model.fit(X_train, y_train)\n",
    "print_score(model, X_train, y_train, X_valid, y_valid)"
   ]
  },
  {
   "cell_type": "code",
   "execution_count": 102,
   "id": "d0b2bc7f",
   "metadata": {},
   "outputs": [
    {
     "name": "stdout",
     "output_type": "stream",
     "text": [
      "CPU times: user 11.8 s, sys: 99.6 ms, total: 11.9 s\n",
      "Wall time: 2.26 s\n",
      "RMSE on train set: 0.3507\n",
      "RMSE on valid set: 0.4542\n",
      "R^2 on train set: 0.7605\n",
      "R^2 on valid set: 0.6009\n",
      "R^2 on oob set: 0.6076\n"
     ]
    }
   ],
   "source": [
    "# Trying more parameters to find optimum score (Try 3)\n",
    "\n",
    "model = RandomForestRegressor(\n",
    "    n_estimators = 100,\n",
    "    min_samples_split = 15,\n",
    "    max_features = 0.75, # default = 'auto'/None\n",
    "    n_jobs = -1, \n",
    "    random_state = 42,\n",
    "    \n",
    "    bootstrap = True,\n",
    "    oob_score = True, # default = False, \n",
    "    max_samples = 0.75, # default = None,\n",
    ")\n",
    "\n",
    "%time model.fit(X_train, y_train)\n",
    "print_score(model, X_train, y_train, X_valid, y_valid)"
   ]
  },
  {
   "cell_type": "code",
   "execution_count": 154,
   "id": "2f948fa6",
   "metadata": {},
   "outputs": [
    {
     "name": "stdout",
     "output_type": "stream",
     "text": [
      "CPU times: user 3.89 s, sys: 42.1 ms, total: 3.93 s\n",
      "Wall time: 930 ms\n",
      "RMSE on train set: 0.4340\n",
      "RMSE on valid set: 0.4533\n",
      "R^2 on train set: 0.6334\n",
      "R^2 on valid set: 0.6023\n",
      "R^2 on oob set: 0.6079\n"
     ]
    }
   ],
   "source": [
    "# Try 4\n",
    "\n",
    "model = RandomForestRegressor(\n",
    "        n_estimators = 87,\n",
    "        min_samples_split = 16,\n",
    "        max_depth = 10,\n",
    "        n_jobs = -1, \n",
    "        max_features = 0.5,\n",
    "        random_state = 42,\n",
    "        min_samples_leaf = 3,\n",
    "        max_leaf_nodes = 520, \n",
    "    \n",
    "        bootstrap = True,\n",
    "        oob_score = True, # default = False, \n",
    "        max_samples = 0.68, # default = None,\n",
    ")\n",
    "\n",
    "%time model.fit(X_train, y_train)\n",
    "print_score(model, X_train, y_train, X_valid, y_valid)"
   ]
  },
  {
   "cell_type": "markdown",
   "id": "f9b6db95",
   "metadata": {},
   "source": [
    "> It seems the model above might be the best score we could get. Lets see the feature importances."
   ]
  },
  {
   "cell_type": "code",
   "execution_count": 104,
   "id": "73e56e36",
   "metadata": {},
   "outputs": [
    {
     "data": {
      "text/plain": [
       "<AxesSubplot:>"
      ]
     },
     "execution_count": 104,
     "metadata": {},
     "output_type": "execute_result"
    },
    {
     "data": {
      "image/png": "[encoded data removed]",
      "text/plain": [
       "<Figure size 432x288 with 1 Axes>"
      ]
     },
     "metadata": {
      "needs_background": "light"
     },
     "output_type": "display_data"
    }
   ],
   "source": [
    "feat_importances = pd.Series(model.feature_importances_, index=X_train.columns)\n",
    "feat_importances.nlargest(15).plot(kind='barh')"
   ]
  },
  {
   "cell_type": "markdown",
   "id": "e19e07e2",
   "metadata": {},
   "source": [
    "> We see that room_type is the most significant decider of price. Other features like bedrooms, accomodates and bathrooms also have a big role to play."
   ]
  },
  {
   "cell_type": "markdown",
   "id": "514ccca4",
   "metadata": {},
   "source": [
    "> Lets see if we can get better scores with xgboost and catboost."
   ]
  },
  {
   "cell_type": "code",
   "execution_count": 105,
   "id": "41d0b777",
   "metadata": {},
   "outputs": [
    {
     "name": "stdout",
     "output_type": "stream",
     "text": [
      "CPU times: user 15.6 s, sys: 1.45 s, total: 17.1 s\n",
      "Wall time: 2.35 s\n",
      "RMSE on train set: 0.4081\n",
      "RMSE on valid set: 0.4501\n",
      "R^2 on train set: 0.6757\n",
      "R^2 on valid set: 0.6080\n"
     ]
    }
   ],
   "source": [
    "model = XGBRegressor()\n",
    "\n",
    "%time model.fit(X_train, y_train)\n",
    "print_score(model, X_train, y_train, X_valid, y_valid)"
   ]
  },
  {
   "cell_type": "markdown",
   "id": "892af0f0",
   "metadata": {},
   "source": [
    "> We see immediately xgboost produced a better score with no parameters. Lets see the feature importances again."
   ]
  },
  {
   "cell_type": "code",
   "execution_count": 106,
   "id": "238df3d7",
   "metadata": {},
   "outputs": [
    {
     "data": {
      "text/plain": [
       "<AxesSubplot:>"
      ]
     },
     "execution_count": 106,
     "metadata": {},
     "output_type": "execute_result"
    },
    {
     "data": {
      "image/png": "[encoded data removed]",
      "text/plain": [
       "<Figure size 432x288 with 1 Axes>"
      ]
     },
     "metadata": {
      "needs_background": "light"
     },
     "output_type": "display_data"
    }
   ],
   "source": [
    "feat_importances = pd.Series(model.feature_importances_, index=X_train.columns)\n",
    "feat_importances.nlargest(15).plot(kind='barh')"
   ]
  },
  {
   "cell_type": "markdown",
   "id": "7b401314",
   "metadata": {},
   "source": [
    "> Again room_type is the biggest decider of price. Some features have less importance than they did in the previous model."
   ]
  },
  {
   "cell_type": "markdown",
   "id": "1a162d47",
   "metadata": {},
   "source": [
    "> Lets see if catboost gives a better score."
   ]
  },
  {
   "cell_type": "code",
   "execution_count": 107,
   "id": "e8878173",
   "metadata": {},
   "outputs": [
    {
     "name": "stdout",
     "output_type": "stream",
     "text": [
      "CPU times: user 10.9 s, sys: 3.58 s, total: 14.5 s\n",
      "Wall time: 3.9 s\n",
      "RMSE on train set: 0.4168\n",
      "RMSE on valid set: 0.4449\n",
      "R^2 on train set: 0.6619\n",
      "R^2 on valid set: 0.6171\n"
     ]
    }
   ],
   "source": [
    "# base catboost model\n",
    "model = CatBoostRegressor(logging_level = 'Silent')\n",
    "\n",
    "%time model.fit(X_train, y_train)\n",
    "print_score(model, X_train, y_train, X_valid, y_valid)"
   ]
  },
  {
   "cell_type": "markdown",
   "id": "338f02e4",
   "metadata": {},
   "source": [
    "> A default catboost model returned a higher score than xgboost. We will try placing some parameters."
   ]
  },
  {
   "cell_type": "code",
   "execution_count": 108,
   "id": "9e404c4d",
   "metadata": {},
   "outputs": [
    {
     "name": "stdout",
     "output_type": "stream",
     "text": [
      "CPU times: user 8.23 s, sys: 1.3 s, total: 9.53 s\n",
      "Wall time: 2.46 s\n",
      "RMSE on train set: 0.4197\n",
      "RMSE on valid set: 0.4452\n",
      "R^2 on train set: 0.6571\n",
      "R^2 on valid set: 0.6165\n"
     ]
    }
   ],
   "source": [
    "# Catboost try 1\n",
    "\n",
    "model = CatBoostRegressor(\n",
    "    n_estimators = 300,\n",
    "    max_depth = 10,\n",
    "    random_seed = 42,\n",
    "    logging_level = 'Silent',\n",
    "    learning_rate = 0.04,\n",
    "    )\n",
    "\n",
    "%time model.fit(X_train, y_train)\n",
    "print_score(model, X_train, y_train, X_valid, y_valid)"
   ]
  },
  {
   "cell_type": "code",
   "execution_count": 135,
   "id": "4c2d9f64",
   "metadata": {},
   "outputs": [
    {
     "name": "stdout",
     "output_type": "stream",
     "text": [
      "CPU times: user 13.5 s, sys: 4.06 s, total: 17.5 s\n",
      "Wall time: 4.81 s\n",
      "RMSE on train set: 0.4037\n",
      "RMSE on valid set: 0.4432\n",
      "R^2 on train set: 0.6827\n",
      "R^2 on valid set: 0.6200\n"
     ]
    }
   ],
   "source": [
    "# Catboost try 2\n",
    "\n",
    "model = CatBoostRegressor(\n",
    "    n_estimators = 850,\n",
    "    max_depth = 9,\n",
    "    random_seed = 100,\n",
    "    logging_level = 'Silent',\n",
    "    learning_rate = 0.04,\n",
    ")\n",
    "\n",
    "%time model.fit(X_train, y_train)\n",
    "print_score(model, X_train, y_train, X_valid, y_valid)"
   ]
  },
  {
   "cell_type": "code",
   "execution_count": 159,
   "id": "89a95899",
   "metadata": {},
   "outputs": [
    {
     "name": "stdout",
     "output_type": "stream",
     "text": [
      "CPU times: user 13.3 s, sys: 4.12 s, total: 17.4 s\n",
      "Wall time: 4.86 s\n",
      "RMSE on train set: 0.4054\n",
      "RMSE on valid set: 0.4432\n",
      "R^2 on train set: 0.6801\n",
      "R^2 on valid set: 0.6200\n"
     ]
    }
   ],
   "source": [
    "# Catboost try 3\n",
    "\n",
    "model = CatBoostRegressor(\n",
    "    n_estimators = 850,\n",
    "    max_depth = 9,\n",
    "    random_seed = 100,\n",
    "    logging_level = 'Silent',\n",
    "    learning_rate = 0.038,\n",
    ")\n",
    "\n",
    "%time model.fit(X_train, y_train)\n",
    "print_score(model, X_train, y_train, X_valid, y_valid)"
   ]
  },
  {
   "cell_type": "markdown",
   "id": "94d3dba2",
   "metadata": {},
   "source": [
    "> Catboost produced the best score overall."
   ]
  },
  {
   "cell_type": "code",
   "execution_count": 160,
   "id": "ac7179c2",
   "metadata": {},
   "outputs": [
    {
     "data": {
      "text/plain": [
       "<AxesSubplot:>"
      ]
     },
     "execution_count": 160,
     "metadata": {},
     "output_type": "execute_result"
    },
    {
     "data": {
      "image/png": "[encoded data removed]",
      "text/plain": [
       "<Figure size 432x288 with 1 Axes>"
      ]
     },
     "metadata": {
      "needs_background": "light"
     },
     "output_type": "display_data"
    }
   ],
   "source": [
    "feat_importances = pd.Series(model.feature_importances_, index=X_train.columns)\n",
    "feat_importances.nlargest(15).plot(kind='barh')"
   ]
  },
  {
   "cell_type": "markdown",
   "id": "1a8be35a",
   "metadata": {},
   "source": [
    "> No surprise as room_type leads the importance of pricing by a mile again, but overall seems to have less importance compared to the RandomForest and xgboost models."
   ]
  },
  {
   "cell_type": "markdown",
   "id": "7cf9e5a1",
   "metadata": {},
   "source": [
    "> Looking at the scores of others on Kaggle (https://www.kaggle.com/datasets/stevezhenghp/airbnb-price-prediction/code), it seems we have obtained similar or slightly better scores compared to most of them."
   ]
  },
  {
   "cell_type": "code",
   "execution_count": null,
   "id": "1f5ae5ff",
   "metadata": {},
   "outputs": [],
   "source": []
  }
 ],
 "metadata": {
  "kernelspec": {
   "display_name": "Python 3 (ipykernel)",
   "language": "python",
   "name": "python3"
  },
  "language_info": {
   "codemirror_mode": {
    "name": "ipython",
    "version": 3
   },
   "file_extension": ".py",
   "mimetype": "text/x-python",
   "name": "python",
   "nbconvert_exporter": "python",
   "pygments_lexer": "ipython3",
   "version": "3.9.12"
  }
 },
 "nbformat": 4,
 "nbformat_minor": 5
}
